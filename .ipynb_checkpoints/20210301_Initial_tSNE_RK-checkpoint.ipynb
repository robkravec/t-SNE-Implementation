{
 "cells": [
  {
   "cell_type": "markdown",
   "metadata": {},
   "source": [
    "**Algorithm is clearly not giving correct answers. Need to troubleshoot**\n",
    "\n",
    "Immediate troubleshooting tasks:\n",
    "\n",
    "- q_ij portion is prohibitively slow!\n",
    "\n",
    "Running questions:\n",
    "\n",
    "- Do we need to code PCA by hand if it's part of the data pre-processing?\n",
    "- Is q_ij denominator a sum across all pairwise combinations? Or just combinations with row i, as in the formula \n",
    "for $p_{j|i}$?\n",
    "\n",
    "Potential to-dos:\n",
    "\n",
    "- Update $\\eta$ at every iteration by means of the adaptive learning rate scheme described by Jacobs (1988)"
   ]
  },
  {
   "cell_type": "code",
   "execution_count": 1,
   "metadata": {},
   "outputs": [],
   "source": [
    "from mlxtend.data import loadlocal_mnist\n",
    "import numpy as np\n",
    "from collections import Counter\n",
    "from sklearn.preprocessing import StandardScaler\n",
    "from sklearn.decomposition import PCA\n",
    "import pandas as pd\n",
    "import matplotlib.pyplot as plt\n",
    "from numba import jit"
   ]
  },
  {
   "cell_type": "markdown",
   "metadata": {},
   "source": [
    "First, download MNIST data directly from [link](http://yann.lecun.com/exdb/mnist/index.html) provided in paper.\n",
    "\n",
    "Reference for loading MNIST data: http://rasbt.github.io/mlxtend/user_guide/data/loadlocal_mnist/ "
   ]
  },
  {
   "cell_type": "code",
   "execution_count": 2,
   "metadata": {},
   "outputs": [
    {
     "name": "stderr",
     "output_type": "stream",
     "text": [
      "  % Total    % Received % Xferd  Average Speed   Time    Time     Time  Current\n",
      "                                 Dload  Upload   Total   Spent    Left  Speed\n",
      "\r",
      "  0     0    0     0    0     0      0      0 --:--:-- --:--:-- --:--:--     0\r",
      "  0 9680k    0  8192    0     0  87148      0  0:01:53 --:--:--  0:01:53 86231\r",
      "  0 9680k    0 49152    0     0  38310      0  0:04:18  0:00:01  0:04:17 38280\r",
      "  0 9680k    0 76608    0     0  34139      0  0:04:50  0:00:02  0:04:48 34123\r",
      "  1 9680k    1  112k    0     0  35728      0  0:04:37  0:00:03  0:04:34 35717\r",
      "  1 9680k    1  144k    0     0  35369      0  0:04:40  0:00:04  0:04:36 35361\r",
      "  1 9680k    1  176k    0     0  35104      0  0:04:42  0:00:05  0:04:37 34133\r",
      "  2 9680k    2  208k    0     0  34876      0  0:04:44  0:00:06  0:04:38 33963\r",
      "  2 9680k    2  240k    0     0  34453      0  0:04:47  0:00:07  0:04:40 34598\r",
      "  2 9680k    2  272k    0     0  34187      0  0:04:49  0:00:08  0:04:41 33186\r",
      "  3 9680k    3  304k    0     0  34174      0  0:04:50  0:00:09  0:04:41 33165\r",
      "  3 9680k    3  336k    0     0  34167      0  0:04:50  0:00:10  0:04:40 33192\r",
      "  3 9680k    3  372k    0     0  33809      0  0:04:53  0:00:11  0:04:42 32545\r",
      "  4 9680k    4  402k    0     0  33719      0  0:04:53  0:00:12  0:04:41 32698\r",
      "  4 9680k    4  440k    0     0  34148      0  0:04:50  0:00:13  0:04:37 34085\r",
      "  4 9680k    4  472k    0     0  34142      0  0:04:50  0:00:14  0:04:36 34092\r",
      "  5 9680k    5  504k    0     0  34124      0  0:04:50  0:00:15  0:04:35 34038\r",
      "  5 9680k    5  536k    0     0  34141      0  0:04:50  0:00:16  0:04:34 34921\r",
      "  5 9680k    5  576k    0     0  34131      0  0:04:50  0:00:17  0:04:33 35127\r",
      "  6 9680k    6  608k    0     0  34129      0  0:04:50  0:00:18  0:04:32 34079\r",
      "  6 9680k    6  640k    0     0  34160      0  0:04:50  0:00:19  0:04:31 34207\r",
      "  6 9680k    6  672k    0     0  34262      0  0:04:49  0:00:20  0:04:29 34683\r",
      "  7 9680k    7  712k    0     0  34382      0  0:04:48  0:00:21  0:04:27 35138\r",
      "  7 9680k    7  744k    0     0  34465      0  0:04:47  0:00:22  0:04:25 35661\r",
      "  8 9680k    8  780k    0     0  34379      0  0:04:48  0:00:23  0:04:25 35291\r",
      "  8 9680k    8  816k    0     0  34476      0  0:04:47  0:00:24  0:04:23 35687\r",
      "  8 9680k    8  848k    0     0  34361      0  0:04:48  0:00:25  0:04:23 34745\r",
      "  9 9680k    9  880k    0     0  34280      0  0:04:49  0:00:26  0:04:23 33851\r",
      "  9 9680k    9  912k    0     0  34193      0  0:04:49  0:00:27  0:04:22 33038\r",
      "  9 9680k    9  936k    0     0  34110      0  0:04:50  0:00:28  0:04:22 32823\r",
      "  9 9680k    9  968k    0     0  34055      0  0:04:51  0:00:29  0:04:22 31954\r",
      " 10 9680k   10 1000k    0     0  33981      0  0:04:51  0:00:30  0:04:21 32006\r",
      " 10 9680k   10 1032k    0     0  33915      0  0:04:52  0:00:31  0:04:21 31947\r",
      " 10 9680k   10 1064k    0     0  33853      0  0:04:52  0:00:32  0:04:20 31947\r",
      " 11 9680k   11 1096k    0     0  33791      0  0:04:53  0:00:33  0:04:20 32037\r",
      " 11 9680k   11 1124k    0     0  33667      0  0:04:54  0:00:34  0:04:20 31445\r",
      " 11 9680k   11 1160k    0     0  33731      0  0:04:53  0:00:35  0:04:18 32245\r",
      " 12 9680k   12 1192k    0     0  33682      0  0:04:54  0:00:36  0:04:18 32251\r",
      " 12 9680k   12 1224k    0     0  33634      0  0:04:54  0:00:37  0:04:17 32251\r",
      " 12 9680k   12 1256k    0     0  33583      0  0:04:55  0:00:38  0:04:17 32232\r",
      " 13 9680k   13 1280k    0     0  33549      0  0:04:55  0:00:39  0:04:16 32727\r",
      " 13 9680k   13 1312k    0     0  33515      0  0:04:55  0:00:40  0:04:15 31954\r",
      " 13 9680k   13 1344k    0     0  33473      0  0:04:56  0:00:41  0:04:15 31914\r",
      " 14 9680k   14 1376k    0     0  33436      0  0:04:56  0:00:42  0:04:14 31927\r",
      " 14 9680k   14 1408k    0     0  33397      0  0:04:56  0:00:43  0:04:13 31934\r",
      " 14 9680k   14 1440k    0     0  33368      0  0:04:57  0:00:44  0:04:13 31993\r",
      " 15 9680k   15 1472k    0     0  33336      0  0:04:57  0:00:45  0:04:12 31943\r",
      " 15 9680k   15 1504k    0     0  33305      0  0:04:57  0:00:46  0:04:11 31968\r",
      " 15 9680k   15 1536k    0     0  33266      0  0:04:57  0:00:47  0:04:10 31869\r",
      " 16 9680k   16 1565k    0     0  33192      0  0:04:58  0:00:48  0:04:10 31463\r",
      " 16 9680k   16 1600k    0     0  33221      0  0:04:58  0:00:49  0:04:09 31950\r",
      " 16 9680k   16 1624k    0     0  33197      0  0:04:58  0:00:50  0:04:08 31895\r",
      " 17 9680k   17 1656k    0     0  33175      0  0:04:58  0:00:51  0:04:07 31927\r",
      " 17 9680k   17 1688k    0     0  33151      0  0:04:59  0:00:52  0:04:07 32032\r",
      " 17 9680k   17 1719k    0     0  33110      0  0:04:59  0:00:53  0:04:06 32294\r",
      " 18 9680k   18 1752k    0     0  33106      0  0:04:59  0:00:54  0:04:05 31934\r",
      " 18 9680k   18 1784k    0     0  33083      0  0:04:59  0:00:55  0:04:04 31975\r",
      " 18 9680k   18 1816k    0     0  33062      0  0:04:59  0:00:56  0:04:03 31950\r",
      " 19 9680k   19 1848k    0     0  33043      0  0:04:59  0:00:57  0:04:02 31950\r",
      " 19 9680k   19 1880k    0     0  33022      0  0:05:00  0:00:58  0:04:02 32118\r",
      " 19 9680k   19 1912k    0     0  33004      0  0:05:00  0:00:59  0:04:01 31937\r",
      " 19 9680k   19 1936k    0     0  32987      0  0:05:00  0:01:00  0:04:00 31901\r",
      " 20 9680k   20 1968k    0     0  32973      0  0:05:00  0:01:01  0:03:59 31940\r",
      " 20 9680k   20 2000k    0     0  32955      0  0:05:00  0:01:02  0:03:58 31921\r",
      " 20 9680k   20 2032k    0     0  32940      0  0:05:00  0:01:03  0:03:57 31960\r",
      " 21 9680k   21 2064k    0     0  32917      0  0:05:01  0:01:04  0:03:57 31855\r",
      " 21 9680k   21 2096k    0     0  32909      0  0:05:01  0:01:05  0:03:56 31987\r",
      " 21 9680k   21 2128k    0     0  32893      0  0:05:01  0:01:06  0:03:55 31937\r",
      " 22 9680k   22 2160k    0     0  32880      0  0:05:01  0:01:07  0:03:54 31968\r",
      " 22 9680k   22 2192k    0     0  32865      0  0:05:01  0:01:08  0:03:53 31937\r",
      " 22 9680k   22 2217k    0     0  32754      0  0:05:02  0:01:09  0:03:53 30717\r",
      " 23 9680k   23 2248k    0     0  32840      0  0:05:01  0:01:10  0:03:51 31921\r",
      " 23 9680k   23 2280k    0     0  32830      0  0:05:01  0:01:11  0:03:50 31960\r",
      " 23 9680k   23 2312k    0     0  32816      0  0:05:02  0:01:12  0:03:50 31927\r",
      " 24 9680k   24 2337k    0     0  32712      0  0:05:03  0:01:13  0:03:50 30561\r",
      " 24 9680k   24 2376k    0     0  32792      0  0:05:02  0:01:14  0:03:48 33318\r",
      " 24 9680k   24 2408k    0     0  32787      0  0:05:02  0:01:15  0:03:47 32062\r",
      " 25 9680k   25 2440k    0     0  32803      0  0:05:02  0:01:16  0:03:46 32430\r",
      " 25 9680k   25 2472k    0     0  32820      0  0:05:02  0:01:17  0:03:45 32886\r",
      " 25 9680k   25 2504k    0     0  32836      0  0:05:01  0:01:18  0:03:43 34678\r",
      " 26 9680k   26 2544k    0     0  32854      0  0:05:01  0:01:19  0:03:42 33764\r",
      " 26 9680k   26 2576k    0     0  32868      0  0:05:01  0:01:20  0:03:41 34079\r",
      " 26 9680k   26 2608k    0     0  32883      0  0:05:01  0:01:21  0:03:40 34092\r",
      " 27 9680k   27 2640k    0     0  32894      0  0:05:01  0:01:22  0:03:39 34025\r",
      " 27 9680k   27 2672k    0     0  32906      0  0:05:01  0:01:23  0:03:38 33998\r",
      " 27 9680k   27 2704k    0     0  32924      0  0:05:01  0:01:24  0:03:37 34069\r",
      " 28 9680k   28 2740k    0     0  32892      0  0:05:01  0:01:25  0:03:36 33274\r",
      " 28 9680k   28 2776k    0     0  32952      0  0:05:00  0:01:26  0:03:34 34072\r",
      " 29 9680k   29 2808k    0     0  32965      0  0:05:00  0:01:27  0:03:33 34119\r",
      " 29 9680k   29 2840k    0     0  32977      0  0:05:00  0:01:28  0:03:32 34146\r",
      " 29 9680k   29 2872k    0     0  32989      0  0:05:00  0:01:29  0:03:31 34072\r",
      " 29 9680k   29 2904k    0     0  33000      0  0:05:00  0:01:30  0:03:30 34913\r",
      " 30 9680k   30 2936k    0     0  33011      0  0:05:00  0:01:31  0:03:29 34062\r",
      " 30 9680k   30 2976k    0     0  33024      0  0:05:00  0:01:32  0:03:28 34052\r",
      " 31 9680k   31 3008k    0     0  33036      0  0:05:00  0:01:33  0:03:27 34065\r",
      " 31 9680k   31 3040k    0     0  33044      0  0:04:59  0:01:34  0:03:25 34018\r",
      " 31 9680k   31 3072k    0     0  33034      0  0:05:00  0:01:35  0:03:25 33632\r",
      " 32 9680k   32 3104k    0     0  33022      0  0:05:00  0:01:36  0:03:24 33223\r",
      " 32 9680k   32 3136k    0     0  33008      0  0:05:00  0:01:37  0:03:23 32715\r",
      " 32 9680k   32 3160k    0     0  32994      0  0:05:00  0:01:38  0:03:22 32191\r",
      " 32 9680k   32 3192k    0     0  32991      0  0:05:00  0:01:39  0:03:21 31973\r",
      " 33 9680k   33 3232k    0     0  32999      0  0:05:00  0:01:40  0:03:20 32347\r",
      " 33 9680k   33 3264k    0     0  33008      0  0:05:00  0:01:41  0:03:19 32728\r",
      " 34 9680k   34 3296k    0     0  33016      0  0:05:00  0:01:42  0:03:18 33159\r",
      " 34 9680k   34 3328k    0     0  33028      0  0:05:00  0:01:43  0:03:17 33685\r",
      " 34 9680k   34 3360k    0     0  33039      0  0:05:00  0:01:44  0:03:16 33964\r",
      " 35 9680k   35 3392k    0     0  33048      0  0:04:59  0:01:45  0:03:14 34062\r",
      " 35 9680k   35 3432k    0     0  33059      0  0:04:59  0:01:46  0:03:13 34092\r",
      " 35 9680k   35 3464k    0     0  33068      0  0:04:59  0:01:47  0:03:12 34146\r",
      " 36 9680k   36 3496k    0     0  33077      0  0:04:59  0:01:48  0:03:11 34079\r",
      " 36 9680k   36 3528k    0     0  33086      0  0:04:59  0:01:49  0:03:10 34052\r",
      " 36 9680k   36 3560k    0     0  33095      0  0:04:59  0:01:50  0:03:09 34072\r",
      " 37 9680k   37 3586k    0     0  33055      0  0:04:59  0:01:51  0:03:08 32971\r",
      " 37 9680k   37 3624k    0     0  33111      0  0:04:59  0:01:52  0:03:07 34048\r",
      " 37 9680k   37 3664k    0     0  33121      0  0:04:59  0:01:53  0:03:06 34058\r",
      " 38 9680k   38 3689k    0     0  33056      0  0:04:59  0:01:54  0:03:05 32433\r",
      " 38 9680k   38 3728k    0     0  33104      0  0:04:59  0:01:55  0:03:04 33313\r",
      " 38 9680k   38 3748k    0     0  33062      0  0:04:59  0:01:56  0:03:03 33210\r",
      " 39 9680k   39 3784k    0     0  33087      0  0:04:59  0:01:57  0:03:02 32559\r",
      " 39 9680k   39 3816k    0     0  33076      0  0:04:59  0:01:58  0:03:01 32046\r",
      " 39 9680k   39 3848k    0     0  33067      0  0:04:59  0:01:59  0:03:00 33305\r",
      " 40 9680k   40 3880k    0     0  33057      0  0:04:59  0:02:00  0:02:59 31947\r",
      " 40 9680k   40 3912k    0     0  33047      0  0:04:59  0:02:01  0:02:58 32704\r",
      " 40 9680k   40 3944k    0     0  33039      0  0:05:00  0:02:02  0:02:58 31937\r",
      " 41 9680k   41 3976k    0     0  33029      0  0:05:00  0:02:03  0:02:57 31943\r",
      " 41 9680k   41 4008k    0     0  33020      0  0:05:00  0:02:04  0:02:56 31937\r",
      " 41 9680k   41 4040k    0     0  33012      0  0:05:00  0:02:05  0:02:55 31943\r",
      " 41 9680k   41 4064k    0     0  33004      0  0:05:00  0:02:06  0:02:54 31947\r",
      " 42 9680k   42 4096k    0     0  32996      0  0:05:00  0:02:07  0:02:53 31921\r",
      " 42 9680k   42 4128k    0     0  32996      0  0:05:00  0:02:08  0:02:52 32152\r",
      " 42 9680k   42 4160k    0     0  32992      0  0:05:00  0:02:09  0:02:51 32258\r",
      " 43 9680k   43 4192k    0     0  32984      0  0:05:00  0:02:10  0:02:50 32251\r",
      " 43 9680k   43 4224k    0     0  32975      0  0:05:00  0:02:11  0:02:49 32258\r",
      " 43 9680k   43 4256k    0     0  32968      0  0:05:00  0:02:12  0:02:48 32264\r",
      " 44 9680k   44 4288k    0     0  32960      0  0:05:00  0:02:13  0:02:47 32043\r",
      " 44 9680k   44 4320k    0     0  32952      0  0:05:00  0:02:14  0:02:46 31950\r",
      " 44 9680k   44 4352k    0     0  32944      0  0:05:00  0:02:15  0:02:45 31937\r",
      " 45 9680k   45 4384k    0     0  32937      0  0:05:00  0:02:16  0:02:44 31950\r",
      " 45 9680k   45 4416k    0     0  32929      0  0:05:01  0:02:17  0:02:44 31937\r",
      " 45 9680k   45 4440k    0     0  32923      0  0:05:01  0:02:18  0:02:43 31908\r",
      " 46 9680k   46 4472k    0     0  32914      0  0:05:01  0:02:19  0:02:42 31888\r",
      " 46 9680k   46 4497k    0     0  32861      0  0:05:01  0:02:20  0:02:41 30549\r",
      " 46 9680k   46 4536k    0     0  32901      0  0:05:01  0:02:21  0:02:40 31895\r",
      " 47 9680k   47 4568k    0     0  32897      0  0:05:01  0:02:22  0:02:39 32000\r",
      " 47 9680k   47 4600k    0     0  32903      0  0:05:01  0:02:23  0:02:38 32366\r",
      " 47 9680k   47 4632k    0     0  32896      0  0:05:01  0:02:24  0:02:37 32379\r",
      " 48 9680k   48 4664k    0     0  32889      0  0:05:01  0:02:25  0:02:36 33665\r",
      " 48 9680k   48 4696k    0     0  32882      0  0:05:01  0:02:26  0:02:35 32379\r",
      " 48 9680k   48 4728k    0     0  32876      0  0:05:01  0:02:27  0:02:34 32277\r",
      " 49 9680k   49 4760k    0     0  32870      0  0:05:01  0:02:28  0:02:33 31950\r",
      " 49 9680k   49 4792k    0     0  32863      0  0:05:01  0:02:29  0:02:32 31937\r",
      " 49 9680k   49 4816k    0     0  32859      0  0:05:01  0:02:30  0:02:31 31967\r",
      " 50 9680k   50 4848k    0     0  32852      0  0:05:01  0:02:31  0:02:30 31940\r",
      " 50 9680k   50 4880k    0     0  32846      0  0:05:01  0:02:32  0:02:29 31954\r",
      " 50 9680k   50 4912k    0     0  32840      0  0:05:01  0:02:33  0:02:28 31947\r",
      " 51 9680k   51 4944k    0     0  32834      0  0:05:01  0:02:34  0:02:27 31947\r",
      " 51 9680k   51 4976k    0     0  32828      0  0:05:01  0:02:35  0:02:26 31943\r",
      " 51 9680k   51 5008k    0     0  32817      0  0:05:02  0:02:36  0:02:26 31776\r",
      " 52 9680k   52 5040k    0     0  32817      0  0:05:02  0:02:37  0:02:25 31943\r",
      " 52 9680k   52 5072k    0     0  32811      0  0:05:02  0:02:38  0:02:24 31918\r",
      " 52 9680k   52 5100k    0     0  32780      0  0:05:02  0:02:39  0:02:23 31157\r",
      " 52 9680k   52 5128k    0     0  32804      0  0:05:02  0:02:40  0:02:22 32032\r",
      " 53 9680k   53 5160k    0     0  32797      0  0:05:02  0:02:41  0:02:21 32145\r",
      " 53 9680k   53 5192k    0     0  32794      0  0:05:02  0:02:42  0:02:20 32046\r",
      " 53 9680k   53 5224k    0     0  32788      0  0:05:02  0:02:43  0:02:19 32059\r",
      " 54 9680k   54 5256k    0     0  32783      0  0:05:02  0:02:44  0:02:18 32875\r",
      " 54 9680k   54 5288k    0     0  32775      0  0:05:02  0:02:45  0:02:17 31856\r",
      " 54 9680k   54 5320k    0     0  32773      0  0:05:02  0:02:46  0:02:16 32025\r",
      " 55 9680k   55 5352k    0     0  32767      0  0:05:02  0:02:47  0:02:15 31931\r",
      " 55 9680k   55 5384k    0     0  32752      0  0:05:02  0:02:48  0:02:14 31617\r",
      " 55 9680k   55 5408k    0     0  32754      0  0:05:02  0:02:49  0:02:13 31790\r",
      " 56 9680k   56 5440k    0     0  32753      0  0:05:02  0:02:50  0:02:12 32019\r",
      " 56 9680k   56 5472k    0     0  32749      0  0:05:02  0:02:51  0:02:11 31940\r",
      " 56 9680k   56 5504k    0     0  32744      0  0:05:02  0:02:52  0:02:10 31927\r",
      " 57 9680k   57 5536k    0     0  32739      0  0:05:02  0:02:53  0:02:09 32278\r",
      " 57 9680k   57 5568k    0     0  32735      0  0:05:02  0:02:54  0:02:08 32087\r",
      " 57 9680k   57 5600k    0     0  32729      0  0:05:02  0:02:55  0:02:07 31925\r",
      " 58 9680k   58 5632k    0     0  32725      0  0:05:02  0:02:56  0:02:06 31937\r",
      " 58 9680k   58 5664k    0     0  32721      0  0:05:02  0:02:57  0:02:05 31956\r",
      " 58 9680k   58 5696k    0     0  32716      0  0:05:02  0:02:58  0:02:04 31943\r",
      " 59 9680k   59 5728k    0     0  32712      0  0:05:03  0:02:59  0:02:04 31950\r",
      " 59 9680k   59 5760k    0     0  32713      0  0:05:03  0:03:00  0:02:03 32188\r",
      " 59 9680k   59 5792k    0     0  32721      0  0:05:02  0:03:01  0:02:01 32559\r",
      " 60 9680k   60 5820k    0     0  32705      0  0:05:03  0:03:02  0:02:01 32161\r",
      " 60 9680k   60 5856k    0     0  32735      0  0:05:02  0:03:03  0:01:59 33423\r",
      " 60 9680k   60 5882k    0     0  32713      0  0:05:03  0:03:04  0:01:59 32728\r",
      " 61 9680k   61 5920k    0     0  32749      0  0:05:02  0:03:05  0:01:57 34083\r",
      " 61 9680k   61 5952k    0     0  32750      0  0:05:02  0:03:06  0:01:56 33865\r",
      " 61 9680k   61 5992k    0     0  32764      0  0:05:02  0:03:07  0:01:55 34869\r",
      " 62 9680k   62 6024k    0     0  32771      0  0:05:02  0:03:08  0:01:54 34065\r",
      " 62 9680k   62 6056k    0     0  32777      0  0:05:02  0:03:09  0:01:53 35134\r",
      " 62 9680k   62 6088k    0     0  32783      0  0:05:02  0:03:10  0:01:52 34038\r",
      " 63 9680k   63 6120k    0     0  32790      0  0:05:02  0:03:11  0:01:51 34269\r",
      " 63 9680k   63 6145k    0     0  32761      0  0:05:02  0:03:12  0:01:50 32659\r",
      " 63 9680k   63 6192k    0     0  32803      0  0:05:02  0:03:13  0:01:49 34018\r",
      " 64 9680k   64 6224k    0     0  32811      0  0:05:02  0:03:14  0:01:48 34072\r",
      " 64 9680k   64 6256k    0     0  32817      0  0:05:02  0:03:15  0:01:47 34079\r",
      " 64 9680k   64 6288k    0     0  32823      0  0:05:01  0:03:16  0:01:45 34052\r",
      " 65 9680k   65 6320k    0     0  32828      0  0:05:01  0:03:17  0:01:44 35358\r",
      " 65 9680k   65 6352k    0     0  32822      0  0:05:02  0:03:18  0:01:44 33573\r",
      " 65 9680k   65 6384k    0     0  32818      0  0:05:02  0:03:19  0:01:43 33098\r",
      " 66 9680k   66 6416k    0     0  32815      0  0:05:02  0:03:20  0:01:42 32761\r",
      " 66 9680k   66 6448k    0     0  32810      0  0:05:02  0:03:21  0:01:41 32328\r",
      " 66 9680k   66 6480k    0     0  32807      0  0:05:02  0:03:22  0:01:40 31993\r",
      " 67 9680k   67 6512k    0     0  32802      0  0:05:02  0:03:23  0:01:39 32006\r",
      " 67 9680k   67 6544k    0     0  32797      0  0:05:02  0:03:24  0:01:38 31975\r",
      " 67 9680k   67 6568k    0     0  32795      0  0:05:02  0:03:25  0:01:37 31940\r",
      " 68 9680k   68 6600k    0     0  32795      0  0:05:02  0:03:26  0:01:36 32152\r",
      " 68 9680k   68 6640k    0     0  32800      0  0:05:02  0:03:27  0:01:35 32546\r",
      " 68 9680k   68 6672k    0     0  32795      0  0:05:02  0:03:28  0:01:34 32520\r",
      " 69 9680k   69 6696k    0     0  32792      0  0:05:02  0:03:29  0:01:33 32589\r",
      " 69 9680k   69 6728k    0     0  32788      0  0:05:02  0:03:30  0:01:32 32533\r",
      " 69 9680k   69 6760k    0     0  32785      0  0:05:02  0:03:31  0:01:31 32379\r",
      " 70 9680k   70 6792k    0     0  32780      0  0:05:02  0:03:32  0:01:30 31940\r",
      " 70 9680k   70 6824k    0     0  32777      0  0:05:02  0:03:33  0:01:29 31993\r",
      " 70 9680k   70 6856k    0     0  32772      0  0:05:02  0:03:34  0:01:28 31956\r",
      " 71 9680k   71 6888k    0     0  32769      0  0:05:02  0:03:35  0:01:27 31962\r",
      " 71 9680k   71 6920k    0     0  32764      0  0:05:02  0:03:36  0:01:26 31918\r",
      " 71 9680k   71 6946k    0     0  32736      0  0:05:02  0:03:37  0:01:25 30914\r",
      " 72 9680k   72 6984k    0     0  32754      0  0:05:02  0:03:38  0:01:24 31801\r",
      " 72 9680k   72 7008k    0     0  32754      0  0:05:02  0:03:39  0:01:23 31960\r",
      " 72 9680k   72 7034k    0     0  32726      0  0:05:02  0:03:40  0:01:22 30844\r",
      " 73 9680k   73 7072k    0     0  32747      0  0:05:02  0:03:41  0:01:21 31967\r",
      " 73 9680k   73 7104k    0     0  32743      0  0:05:02  0:03:42  0:01:20 33037\r",
      " 73 9680k   73 7136k    0     0  32739      0  0:05:02  0:03:43  0:01:19 32098\r",
      " 74 9680k   74 7168k    0     0  32736      0  0:05:02  0:03:44  0:01:18 31968\r",
      " 74 9680k   74 7200k    0     0  32732      0  0:05:02  0:03:45  0:01:17 32998\r",
      " 74 9680k   74 7232k    0     0  32729      0  0:05:02  0:03:46  0:01:16 31956\r",
      " 75 9680k   75 7260k    0     0  32708      0  0:05:03  0:03:47  0:01:16 31182\r",
      " 75 9680k   75 7296k    0     0  32722      0  0:05:02  0:03:48  0:01:14 31950\r",
      " 75 9680k   75 7316k    0     0  32701      0  0:05:03  0:03:49  0:01:14 31106\r",
      " 75 9680k   75 7352k    0     0  32716      0  0:05:02  0:03:50  0:01:12 31947\r",
      " 76 9680k   76 7384k    0     0  32712      0  0:05:03  0:03:51  0:01:12 31940\r",
      " 76 9680k   76 7416k    0     0  32708      0  0:05:03  0:03:52  0:01:11 32728\r",
      " 76 9680k   76 7448k    0     0  32705      0  0:05:03  0:03:53  0:01:10 31940\r",
      " 77 9680k   77 7480k    0     0  32702      0  0:05:03  0:03:54  0:01:09 32748\r",
      " 77 9680k   77 7509k    0     0  32688      0  0:05:03  0:03:55  0:01:08 31432\r",
      " 77 9680k   77 7544k    0     0  32695      0  0:05:03  0:03:56  0:01:07 31937\r",
      " 78 9680k   78 7572k    0     0  32676      0  0:05:03  0:03:57  0:01:06 31201\r",
      " 78 9680k   78 7600k    0     0  32689      0  0:05:03  0:03:58  0:01:05 31921\r",
      " 78 9680k   78 7632k    0     0  32686      0  0:05:03  0:03:59  0:01:04 31895\r",
      " 79 9680k   79 7664k    0     0  32683      0  0:05:03  0:04:00  0:01:03 32485\r",
      " 79 9680k   79 7693k    0     0  32670      0  0:05:03  0:04:01  0:01:02 31435\r",
      " 79 9680k   79 7728k    0     0  32679      0  0:05:03  0:04:02  0:01:01 32856\r",
      " 80 9680k   80 7760k    0     0  32676      0  0:05:03  0:04:03  0:01:00 32062\r",
      " 80 9680k   80 7792k    0     0  32675      0  0:05:03  0:04:04  0:00:59 32194\r",
      " 80 9680k   80 7824k    0     0  32672      0  0:05:03  0:04:05  0:00:58 32131\r",
      " 81 9680k   81 7849k    0     0  32642      0  0:05:03  0:04:06  0:00:57 31321\r",
      " 81 9680k   81 7888k    0     0  32665      0  0:05:03  0:04:07  0:00:56 32006\r",
      " 81 9680k   81 7920k    0     0  32663      0  0:05:03  0:04:08  0:00:55 32031\r",
      " 82 9680k   82 7952k    0     0  32659      0  0:05:03  0:04:09  0:00:54 31881\r",
      " 82 9680k   82 7976k    0     0  32657      0  0:05:03  0:04:10  0:00:53 31895\r",
      " 82 9680k   82 8008k    0     0  32655      0  0:05:03  0:04:11  0:00:52 33305\r",
      " 83 9680k   83 8040k    0     0  32658      0  0:05:03  0:04:12  0:00:51 32265\r",
      " 83 9680k   83 8072k    0     0  32653      0  0:05:03  0:04:13  0:00:50 32171\r",
      " 83 9680k   83 8104k    0     0  32653      0  0:05:03  0:04:14  0:00:49 32332\r",
      " 84 9680k   84 8136k    0     0  32650      0  0:05:03  0:04:15  0:00:48 32296\r",
      " 84 9680k   84 8168k    0     0  32647      0  0:05:03  0:04:16  0:00:47 32271\r",
      " 84 9680k   84 8200k    0     0  32644      0  0:05:03  0:04:17  0:00:46 31962\r",
      " 85 9680k   85 8232k    0     0  32641      0  0:05:03  0:04:18  0:00:45 32037\r",
      " 85 9680k   85 8264k    0     0  32638      0  0:05:03  0:04:19  0:00:44 31931\r",
      " 85 9680k   85 8296k    0     0  32635      0  0:05:03  0:04:20  0:00:43 31931\r",
      " 85 9680k   85 8320k    0     0  32631      0  0:05:03  0:04:21  0:00:42 31764\r",
      " 86 9680k   86 8352k    0     0  32631      0  0:05:03  0:04:22  0:00:41 31960\r",
      " 86 9680k   86 8384k    0     0  32628      0  0:05:03  0:04:23  0:00:40 31947\r",
      " 86 9680k   86 8416k    0     0  32626      0  0:05:03  0:04:24  0:00:39 31954\r",
      " 87 9680k   87 8448k    0     0  32622      0  0:05:03  0:04:25  0:00:38 31927\r",
      " 87 9680k   87 8476k    0     0  32605      0  0:05:04  0:04:26  0:00:38 31324\r",
      " 87 9680k   87 8512k    0     0  32618      0  0:05:03  0:04:27  0:00:36 31937\r",
      " 88 9680k   88 8544k    0     0  32615      0  0:05:03  0:04:28  0:00:35 31943\r",
      " 88 9680k   88 8576k    0     0  32613      0  0:05:03  0:04:29  0:00:34 31950\r",
      " 88 9680k   88 8608k    0     0  32610      0  0:05:03  0:04:30  0:00:33 31981\r",
      " 89 9680k   89 8640k    0     0  32608      0  0:05:03  0:04:31  0:00:32 32740\r",
      " 89 9680k   89 8664k    0     0  32606      0  0:05:04  0:04:32  0:00:32 31954\r",
      " 89 9680k   89 8696k    0     0  32603      0  0:05:04  0:04:33  0:00:31 31927\r",
      " 90 9680k   90 8728k    0     0  32601      0  0:05:04  0:04:34  0:00:30 31934\r",
      " 90 9680k   90 8760k    0     0  32599      0  0:05:04  0:04:35  0:00:29 31947\r",
      " 90 9680k   90 8792k    0     0  32596      0  0:05:04  0:04:36  0:00:28 31921\r",
      " 91 9680k   91 8824k    0     0  32593      0  0:05:04  0:04:37  0:00:27 31925\r",
      " 91 9680k   91 8856k    0     0  32591      0  0:05:04  0:04:38  0:00:26 31975\r",
      " 91 9680k   91 8888k    0     0  32595      0  0:05:04  0:04:39  0:00:25 32258\r",
      " 92 9680k   92 8920k    0     0  32599      0  0:05:04  0:04:40  0:00:24 32650\r",
      " 92 9680k   92 8952k    0     0  32603      0  0:05:04  0:04:41  0:00:23 32972\r",
      " 92 9680k   92 8984k    0     0  32601      0  0:05:04  0:04:42  0:00:22 32998\r",
      " 93 9680k   93 9009k    0     0  32574      0  0:05:04  0:04:43  0:00:21 31614\r",
      " 93 9680k   93 9048k    0     0  32596      0  0:05:04  0:04:44  0:00:20 32663\r",
      " 93 9680k   93 9080k    0     0  32593      0  0:05:04  0:04:45  0:00:19 32264\r",
      " 94 9680k   94 9112k    0     0  32593      0  0:05:04  0:04:46  0:00:18 32075\r",
      " 94 9680k   94 9144k    0     0  32596      0  0:05:04  0:04:47  0:00:17 32341\r",
      " 94 9680k   94 9176k    0     0  32594      0  0:05:04  0:04:48  0:00:16 33679\r",
      " 95 9680k   95 9208k    0     0  32598      0  0:05:04  0:04:49  0:00:15 32754\r",
      " 95 9680k   95 9240k    0     0  32598      0  0:05:04  0:04:50  0:00:14 32873\r",
      " 95 9680k   95 9272k    0     0  32601      0  0:05:04  0:04:51  0:00:13 33058\r",
      " 96 9680k   96 9304k    0     0  32599      0  0:05:04  0:04:52  0:00:12 32781\r",
      " 96 9680k   96 9336k    0     0  32597      0  0:05:04  0:04:53  0:00:11 32781\r",
      " 96 9680k   96 9364k    0     0  32581      0  0:05:04  0:04:54  0:00:10 31557\r",
      " 97 9680k   97 9392k    0     0  32593      0  0:05:04  0:04:55  0:00:09 32265\r",
      " 97 9680k   97 9424k    0     0  32591      0  0:05:04  0:04:56  0:00:08 31960\r",
      " 97 9680k   97 9456k    0     0  32588      0  0:05:04  0:04:57  0:00:07 31940\r",
      " 98 9680k   98 9488k    0     0  32584      0  0:05:04  0:04:58  0:00:06 31803\r",
      " 98 9680k   98 9520k    0     0  32584      0  0:05:04  0:04:59  0:00:05 32781\r",
      " 98 9680k   98 9552k    0     0  32582      0  0:05:04  0:05:00  0:00:04 31943\r",
      " 99 9680k   99 9584k    0     0  32579      0  0:05:04  0:05:01  0:00:03 31937\r",
      " 99 9680k   99 9616k    0     0  32577      0  0:05:04  0:05:02  0:00:02 31918\r",
      " 99 9680k   99 9648k    0     0  32580      0  0:05:04  0:05:03  0:00:01 32385\r",
      " 99 9680k   99 9680k    0     0  32585      0  0:05:04  0:05:04 --:--:-- 32669\r",
      "100 9680k  100 9680k    0     0  32560      0  0:05:04  0:05:04 --:--:-- 30995\n",
      "  % Total    % Received % Xferd  Average Speed   Time    Time     Time  Current\n",
      "                                 Dload  Upload   Total   Spent    Left  Speed\n",
      "\r",
      "  0     0    0     0    0     0      0      0 --:--:-- --:--:-- --:--:--     0\r",
      "100 28881  100 28881    0     0   258k      0 --:--:-- --:--:-- --:--:--  258k\n"
     ]
    }
   ],
   "source": [
    "%%bash\n",
    "curl -O http://yann.lecun.com/exdb/mnist/train-images-idx3-ubyte.gz\n",
    "curl -O http://yann.lecun.com/exdb/mnist/train-labels-idx1-ubyte.gz\n",
    "gunzip t*.gz"
   ]
  },
  {
   "cell_type": "code",
   "execution_count": 3,
   "metadata": {},
   "outputs": [],
   "source": [
    "X, y = loadlocal_mnist(\n",
    "            images_path='train-images-idx3-ubyte', \n",
    "            labels_path='train-labels-idx1-ubyte')"
   ]
  },
  {
   "cell_type": "code",
   "execution_count": 6,
   "metadata": {},
   "outputs": [],
   "source": [
    "%%bash\n",
    "rm train-images-idx3-ubyte\n",
    "rm train-labels-idx1-ubyte"
   ]
  },
  {
   "cell_type": "code",
   "execution_count": 2,
   "metadata": {},
   "outputs": [],
   "source": [
    "# Save MNIST data\n",
    "#np.save('X_MNIST', X)\n",
    "#np.save('y_MNIST', y)\n",
    "X = np.load('X_MNIST.npy')\n",
    "y = np.load('y_MNIST.npy')"
   ]
  },
  {
   "cell_type": "code",
   "execution_count": 3,
   "metadata": {},
   "outputs": [
    {
     "name": "stdout",
     "output_type": "stream",
     "text": [
      "y contains 60000 elements\n",
      "X is 60000 x 784\n"
     ]
    }
   ],
   "source": [
    "# Confirm dimensions\n",
    "print(\"y contains \" + str(len(y)) + \" elements\")\n",
    "print(\"X is \" + str(X.shape[0]) + \" x \" + str(X.shape[1]))"
   ]
  },
  {
   "cell_type": "markdown",
   "metadata": {},
   "source": [
    "To generate our first attempt at the t-SNE algorithm, we'll take a very small subset of these 60,000 digits. For convenience, we'll start with the first 250 digits. Later, we'll choose a much larger, random sample."
   ]
  },
  {
   "cell_type": "code",
   "execution_count": 14,
   "metadata": {},
   "outputs": [
    {
     "data": {
      "text/plain": [
       "Counter({0: 13, 1: 14, 2: 6, 3: 11, 4: 11, 5: 5, 6: 11, 7: 10, 8: 8, 9: 11})"
      ]
     },
     "execution_count": 14,
     "metadata": {},
     "output_type": "execute_result"
    }
   ],
   "source": [
    "# Take sample\n",
    "X_sample = X[0:100]\n",
    "y_sample = y[0:100]\n",
    "\n",
    "# Inspect distribution of digit labels\n",
    "Counter(y_sample)"
   ]
  },
  {
   "cell_type": "markdown",
   "metadata": {},
   "source": [
    "As discussed in Section 4.2 of our chosen paper, we will start by reducing the dimensionality of our dataset to 30 using PCA. We scale the center and scale the data to have mean zero and variance one before performing PCA.\n",
    "\n",
    "PCA reference: https://towardsdatascience.com/pca-using-python-scikit-learn-e653f8989e60"
   ]
  },
  {
   "cell_type": "code",
   "execution_count": 21,
   "metadata": {},
   "outputs": [
    {
     "data": {
      "text/plain": [
       "<matplotlib.image.AxesImage at 0x7f23997d4f28>"
      ]
     },
     "execution_count": 21,
     "metadata": {},
     "output_type": "execute_result"
    },
    {
     "data": {
      "image/png": "[encoded data removed]",
      "text/plain": [
       "<Figure size 432x288 with 1 Axes>"
      ]
     },
     "metadata": {},
     "output_type": "display_data"
    }
   ],
   "source": [
    "# How to plot the images\n",
    "#plt.imshow(X_sample[1,:].reshape(28, 28))"
   ]
  },
  {
   "cell_type": "code",
   "execution_count": 17,
   "metadata": {},
   "outputs": [],
   "source": [
    "n_features = 30\n",
    "X_sample_scale = StandardScaler().fit_transform(X_sample)\n",
    "pca = PCA(n_components = n_features)\n",
    "X_sample_PC = pca.fit_transform(X_sample_scale)"
   ]
  },
  {
   "cell_type": "markdown",
   "metadata": {},
   "source": [
    "Compute pairwise affinities $p_{j|i}$ using Equation 1"
   ]
  },
  {
   "cell_type": "code",
   "execution_count": 47,
   "metadata": {},
   "outputs": [],
   "source": [
    "@jit\n",
    "def dist_calc(X, perplexity = 30.0, tolerance = 0.1, sigma_sq_init = 10 ** 6):\n",
    "    \n",
    "    \"\"\"Calculate pairwise affinities with approach that contrains perplexity values\"\"\"\n",
    "    \n",
    "    # Initialize output and sigma_sq boundaries\n",
    "    dist = np.zeros(shape = (X.shape[0], X.shape[0]))\n",
    "    attempts_threshold = 100\n",
    "    \n",
    "    # Calculate pairwise affinities one row at a time\n",
    "    for i in range(dist.shape[0]):\n",
    "        sigma_sq = sigma_sq_init\n",
    "        sigma_sq_max = 10 ** 10\n",
    "        sigma_sq_min = 0\n",
    "        perp = 0\n",
    "        attempts = 0\n",
    "       \n",
    "        # Only proceed to next row once perplexity condition is met or we have too many attempts\n",
    "        while np.abs(perp - perplexity) > tolerance and attempts < attempts_threshold:\n",
    "            \n",
    "            ######## Pairwise distance function in sklearn\n",
    "            # Calculate pairwise affinities\n",
    "            denom = 0\n",
    "            for j in range(dist.shape[0]):\n",
    "                if i != j:\n",
    "                    denom += np.exp(-np.sum(np.square(X[i, :] - X[j, :])) / (2 * sigma_sq))\n",
    "                    dist[i, j] = np.exp(-np.sum(np.square(X[i, :] - X[j, :])) / (2 * sigma_sq))\n",
    "            dist[i, :] = dist[i, :] / denom\n",
    "                    \n",
    "            #### Optimization opportunity to calculate denominator as sum of numerators\n",
    "\n",
    "            # Check perplexity, and update sigma_sq accordingly\n",
    "            perp = 2 ** (- np.sum(dist[i, :] * np.where(dist[i, :] != 0, np.log2(dist[i, :]), 0)))\n",
    "            if perp < perplexity:\n",
    "                sigma_sq_min = sigma_sq\n",
    "                if sigma_sq_max == 10 ** 10:\n",
    "                    sigma_sq *= 2\n",
    "                else:\n",
    "                    sigma_sq = (sigma_sq + sigma_sq_max) / 2\n",
    "            else:\n",
    "                sigma_sq_max = sigma_sq\n",
    "                sigma_sq *= 0.5\n",
    "            attempts += 1\n",
    "        \n",
    "    return dist"
   ]
  },
  {
   "cell_type": "code",
   "execution_count": 48,
   "metadata": {},
   "outputs": [],
   "source": [
    "dist = dist_calc(X = X_sample_PC, perplexity = 30)"
   ]
  },
  {
   "cell_type": "markdown",
   "metadata": {},
   "source": [
    "Check perplexities of resulting affinities"
   ]
  },
  {
   "cell_type": "code",
   "execution_count": 49,
   "metadata": {
    "collapsed": true
   },
   "outputs": [
    {
     "name": "stderr",
     "output_type": "stream",
     "text": [
      "/opt/conda/lib/python3.6/site-packages/ipykernel_launcher.py:1: RuntimeWarning: divide by zero encountered in log2\n",
      "  \"\"\"Entry point for launching an IPython kernel.\n"
     ]
    },
    {
     "data": {
      "text/plain": [
       "array([[29.99412618],\n",
       "       [30.09763502],\n",
       "       [29.97312414],\n",
       "       [29.9922531 ],\n",
       "       [29.91665874],\n",
       "       [30.06141396],\n",
       "       [30.06238928],\n",
       "       [30.07762744],\n",
       "       [30.07502995],\n",
       "       [30.07141377],\n",
       "       [29.92602315],\n",
       "       [30.00896666],\n",
       "       [30.05324302],\n",
       "       [29.96052631],\n",
       "       [30.03693457],\n",
       "       [29.93274549],\n",
       "       [30.02948311],\n",
       "       [30.0012621 ],\n",
       "       [29.90411695],\n",
       "       [30.05106473],\n",
       "       [30.04213308],\n",
       "       [29.90712223],\n",
       "       [29.98691376],\n",
       "       [29.96831937],\n",
       "       [30.06973176],\n",
       "       [29.95354295],\n",
       "       [29.934617  ],\n",
       "       [29.96083303],\n",
       "       [30.09961881],\n",
       "       [29.97305853],\n",
       "       [30.08054821],\n",
       "       [30.057818  ],\n",
       "       [30.01206617],\n",
       "       [30.01757788],\n",
       "       [29.9678634 ],\n",
       "       [29.95283251],\n",
       "       [30.08027162],\n",
       "       [29.91309242],\n",
       "       [30.0832774 ],\n",
       "       [30.05715556],\n",
       "       [30.04799091],\n",
       "       [29.96601401],\n",
       "       [29.9439299 ],\n",
       "       [30.00713861],\n",
       "       [29.9065833 ],\n",
       "       [29.95854048],\n",
       "       [29.97432319],\n",
       "       [29.96166049],\n",
       "       [29.94849955],\n",
       "       [30.02825955],\n",
       "       [29.99292889],\n",
       "       [30.0127958 ],\n",
       "       [29.92131063],\n",
       "       [29.99864529],\n",
       "       [29.95453749],\n",
       "       [30.05042412],\n",
       "       [30.07135367],\n",
       "       [29.95505156],\n",
       "       [30.01199903],\n",
       "       [30.08341949],\n",
       "       [29.99579703],\n",
       "       [29.98491133],\n",
       "       [30.06529555],\n",
       "       [30.08222194],\n",
       "       [30.05306118],\n",
       "       [30.07883335],\n",
       "       [30.02759389],\n",
       "       [30.07979104],\n",
       "       [29.95168881],\n",
       "       [29.96445741],\n",
       "       [30.09901089],\n",
       "       [29.98656676],\n",
       "       [30.02394498],\n",
       "       [29.94012455],\n",
       "       [29.91867254],\n",
       "       [29.93002843],\n",
       "       [29.9225305 ],\n",
       "       [30.04250233],\n",
       "       [29.95857976],\n",
       "       [30.04698571],\n",
       "       [30.07104323],\n",
       "       [29.99219122],\n",
       "       [29.97253502],\n",
       "       [29.98644699],\n",
       "       [30.00687157],\n",
       "       [29.91226748],\n",
       "       [29.99792343],\n",
       "       [29.99242099],\n",
       "       [30.07606291],\n",
       "       [30.04697033],\n",
       "       [29.9411992 ],\n",
       "       [29.96186288],\n",
       "       [30.01329039],\n",
       "       [29.95741413],\n",
       "       [29.96920698],\n",
       "       [30.08082765],\n",
       "       [30.02560881],\n",
       "       [29.99640865],\n",
       "       [30.06399096],\n",
       "       [30.06800946]])"
      ]
     },
     "execution_count": 49,
     "metadata": {},
     "output_type": "execute_result"
    }
   ],
   "source": [
    "perp = 2 ** -(dist * np.where(dist != 0, np.log2(dist), 0)).sum(axis = 1).reshape(-1, 1)\n",
    "perp"
   ]
  },
  {
   "cell_type": "markdown",
   "metadata": {},
   "source": [
    "Compute joint probabilities $p_{ij}$"
   ]
  },
  {
   "cell_type": "code",
   "execution_count": 41,
   "metadata": {
    "collapsed": true
   },
   "outputs": [
    {
     "data": {
      "text/plain": [
       "array([[0.00000000e+00, 2.74369181e-05, 3.07732250e-07, ...,\n",
       "        1.75742789e-04, 1.39566865e-04, 5.00268435e-05],\n",
       "       [2.74369181e-05, 0.00000000e+00, 7.15924945e-06, ...,\n",
       "        3.27823102e-05, 1.80643132e-05, 3.03512576e-05],\n",
       "       [3.07732250e-07, 7.15924945e-06, 0.00000000e+00, ...,\n",
       "        2.23432293e-05, 5.84078948e-05, 7.40275608e-05],\n",
       "       ...,\n",
       "       [1.75742789e-04, 3.27823102e-05, 2.23432293e-05, ...,\n",
       "        0.00000000e+00, 2.89093837e-05, 5.05545864e-05],\n",
       "       [1.39566865e-04, 1.80643132e-05, 5.84078948e-05, ...,\n",
       "        2.89093837e-05, 0.00000000e+00, 7.18967493e-05],\n",
       "       [5.00268435e-05, 3.03512576e-05, 7.40275608e-05, ...,\n",
       "        5.05545864e-05, 7.18967493e-05, 0.00000000e+00]])"
      ]
     },
     "execution_count": 41,
     "metadata": {},
     "output_type": "execute_result"
    }
   ],
   "source": [
    "p_ij = (dist + dist.T) / (2 * dist.shape[0])\n",
    "p_ij"
   ]
  },
  {
   "cell_type": "code",
   "execution_count": 42,
   "metadata": {
    "collapsed": true
   },
   "outputs": [
    {
     "data": {
      "text/plain": [
       "<matplotlib.image.AxesImage at 0x7f239971f4a8>"
      ]
     },
     "execution_count": 42,
     "metadata": {},
     "output_type": "execute_result"
    },
    {
     "data": {
      "image/png": "[encoded data removed]",
      "text/plain": [
       "<Figure size 432x288 with 1 Axes>"
      ]
     },
     "metadata": {},
     "output_type": "display_data"
    }
   ],
   "source": [
    "plt.imshow(p_ij)"
   ]
  },
  {
   "cell_type": "code",
   "execution_count": 44,
   "metadata": {},
   "outputs": [],
   "source": [
    "def tsne(pij, numrows, T = 1000, alpha_init = 0.5, alpha_final = 0.8, eta = 100, numcols = 2):\n",
    "    \n",
    "    \"\"\"Perform iterative portion of t-SNE algorithm\"\"\"\n",
    "    \n",
    "    # Initialize output, including values of first two iterations\n",
    "    y_lowd = np.zeros(shape = (T + 1, numrows, numcols))\n",
    "    y_lowd_m1 = np.random.multivariate_normal(mean = np.zeros(numcols), cov = 10 ** -4 * np.eye(numcols), \\\n",
    "                                              size = numrows)\n",
    "    y_lowd_m2 = np.random.multivariate_normal(mean = np.zeros(numcols), cov = 10 ** -4 * np.eye(numcols), \\\n",
    "                                              size = numrows)\n",
    "    y_lowd[0, :, :] = y_lowd_m2\n",
    "    y_lowd[1, :, :] = y_lowd_m1\n",
    "    \n",
    "    for q in range(2, T + 1):\n",
    "        \n",
    "        \n",
    "        ###### Google Jupyter progress bar\n",
    "        # Print iteration number\n",
    "        if q % 10 == 0:\n",
    "            print(\"Iteration: \" + str(q), end = \", \")\n",
    "        \n",
    "        # Set alpha based on iteration number\n",
    "        if q <= 250:\n",
    "            alpha = alpha_init\n",
    "        else:\n",
    "            alpha = alpha_final\n",
    "            \n",
    "        # Set compression factor\n",
    "        if q <= 50:\n",
    "            comp = 4\n",
    "        else:\n",
    "            comp = 1\n",
    "    \n",
    "        ##### Compute low-dimensional affinities\n",
    "        q_ij = np.zeros(shape = (y_lowd.shape[1], y_lowd.shape[1]))\n",
    "        denom = 0\n",
    "                    \n",
    "        # Calculate q_ij, which is a symmetric matrix\n",
    "        for i in range(q_ij.shape[0]):\n",
    "            for j in range(q_ij.shape[0]):\n",
    "                if i != j:\n",
    "                    q_ij[i, j] = (1 + np.sum(np.square(y_lowd_m1[i, :] - y_lowd_m1[j, :]))) ** (-1)\n",
    "                    denom += (1 + np.sum(np.square(y_lowd_m1[i, :] - y_lowd_m1[j, :]))) ** (-1)\n",
    "        q_ij = q_ij / denom\n",
    "\n",
    "        ##### Compute gradient\n",
    "        grad = np.zeros(shape = (y_lowd.shape[1], y_lowd.shape[2]))\n",
    "        for i in range(grad.shape[0]):\n",
    "            grad[i] = 0\n",
    "            for j in range(grad.shape[0]):\n",
    "                grad[i] += 4 * (comp * p_ij[i, j] - q_ij[i, j]) * (y_lowd_m1[i, :] - y_lowd_m1[j, :]) * \\\n",
    "                    (1 + np.sum(np.square(y_lowd_m1[i, :] - y_lowd_m1[j, :]))) ** (-1)\n",
    "\n",
    "        ##### Update low-dimensional data\n",
    "        y_lowd_new = y_lowd_m1 + eta * grad + alpha * (y_lowd_m1 - y_lowd_m2)\n",
    "        y_lowd_m2, y_lowd_m1 = y_lowd_m1, y_lowd_new\n",
    "        y_lowd[q, :, :] = y_lowd_new\n",
    "    \n",
    "    return y_lowd"
   ]
  },
  {
   "cell_type": "code",
   "execution_count": 45,
   "metadata": {},
   "outputs": [
    {
     "name": "stdout",
     "output_type": "stream",
     "text": [
      "Iteration: 10, Iteration: 20, Iteration: 30, Iteration: 40, Iteration: 50, Iteration: 60, Iteration: 70, Iteration: 80, Iteration: 90, Iteration: 100, Iteration: 110, Iteration: 120, Iteration: 130, Iteration: 140, Iteration: 150, Iteration: 160, Iteration: 170, Iteration: 180, Iteration: 190, Iteration: 200, Iteration: 210, Iteration: 220, Iteration: 230, Iteration: 240, "
     ]
    },
    {
     "ename": "KeyboardInterrupt",
     "evalue": "",
     "output_type": "error",
     "traceback": [
      "\u001b[0;31m\u001b[0m",
      "\u001b[0;31mKeyboardInterrupt\u001b[0mTraceback (most recent call last)",
      "\u001b[0;32m<ipython-input-45-4e4eafc30c25>\u001b[0m in \u001b[0;36m<module>\u001b[0;34m()\u001b[0m\n\u001b[0;32m----> 1\u001b[0;31m \u001b[0my_lowd\u001b[0m \u001b[0;34m=\u001b[0m \u001b[0mtsne\u001b[0m\u001b[0;34m(\u001b[0m\u001b[0mpij\u001b[0m \u001b[0;34m=\u001b[0m \u001b[0mp_ij\u001b[0m\u001b[0;34m,\u001b[0m \u001b[0mnumrows\u001b[0m \u001b[0;34m=\u001b[0m \u001b[0mp_ij\u001b[0m\u001b[0;34m.\u001b[0m\u001b[0mshape\u001b[0m\u001b[0;34m[\u001b[0m\u001b[0;36m0\u001b[0m\u001b[0;34m]\u001b[0m\u001b[0;34m,\u001b[0m \u001b[0mT\u001b[0m \u001b[0;34m=\u001b[0m \u001b[0;36m500\u001b[0m\u001b[0;34m)\u001b[0m\u001b[0;34m\u001b[0m\u001b[0;34m\u001b[0m\u001b[0m\n\u001b[0m\u001b[1;32m      2\u001b[0m \u001b[0;31m#y_lowd = tsne(pij = p_ij, numrows = p_ij.shape[0], T = 300, eta = 500)\u001b[0m\u001b[0;34m\u001b[0m\u001b[0;34m\u001b[0m\u001b[0;34m\u001b[0m\u001b[0m\n\u001b[1;32m      3\u001b[0m \u001b[0;31m#y_lowd = tsne(pij = p_ij, numrows = p_ij.shape[0], T = 500, eta = 500)\u001b[0m\u001b[0;34m\u001b[0m\u001b[0;34m\u001b[0m\u001b[0;34m\u001b[0m\u001b[0m\n",
      "\u001b[0;32m<ipython-input-44-2ec99b4e3747>\u001b[0m in \u001b[0;36mtsne\u001b[0;34m(pij, numrows, T, alpha_init, alpha_final, eta, numcols)\u001b[0m\n\u001b[1;32m     50\u001b[0m             \u001b[0mgrad\u001b[0m\u001b[0;34m[\u001b[0m\u001b[0mi\u001b[0m\u001b[0;34m]\u001b[0m \u001b[0;34m=\u001b[0m \u001b[0;36m0\u001b[0m\u001b[0;34m\u001b[0m\u001b[0;34m\u001b[0m\u001b[0m\n\u001b[1;32m     51\u001b[0m             \u001b[0;32mfor\u001b[0m \u001b[0mj\u001b[0m \u001b[0;32min\u001b[0m \u001b[0mrange\u001b[0m\u001b[0;34m(\u001b[0m\u001b[0mgrad\u001b[0m\u001b[0;34m.\u001b[0m\u001b[0mshape\u001b[0m\u001b[0;34m[\u001b[0m\u001b[0;36m0\u001b[0m\u001b[0;34m]\u001b[0m\u001b[0;34m)\u001b[0m\u001b[0;34m:\u001b[0m\u001b[0;34m\u001b[0m\u001b[0;34m\u001b[0m\u001b[0m\n\u001b[0;32m---> 52\u001b[0;31m                 \u001b[0mgrad\u001b[0m\u001b[0;34m[\u001b[0m\u001b[0mi\u001b[0m\u001b[0;34m]\u001b[0m \u001b[0;34m+=\u001b[0m \u001b[0;36m4\u001b[0m \u001b[0;34m*\u001b[0m \u001b[0;34m(\u001b[0m\u001b[0mcomp\u001b[0m \u001b[0;34m*\u001b[0m \u001b[0mp_ij\u001b[0m\u001b[0;34m[\u001b[0m\u001b[0mi\u001b[0m\u001b[0;34m,\u001b[0m \u001b[0mj\u001b[0m\u001b[0;34m]\u001b[0m \u001b[0;34m-\u001b[0m \u001b[0mq_ij\u001b[0m\u001b[0;34m[\u001b[0m\u001b[0mi\u001b[0m\u001b[0;34m,\u001b[0m \u001b[0mj\u001b[0m\u001b[0;34m]\u001b[0m\u001b[0;34m)\u001b[0m \u001b[0;34m*\u001b[0m \u001b[0;34m(\u001b[0m\u001b[0my_lowd_m1\u001b[0m\u001b[0;34m[\u001b[0m\u001b[0mi\u001b[0m\u001b[0;34m,\u001b[0m \u001b[0;34m:\u001b[0m\u001b[0;34m]\u001b[0m \u001b[0;34m-\u001b[0m \u001b[0my_lowd_m1\u001b[0m\u001b[0;34m[\u001b[0m\u001b[0mj\u001b[0m\u001b[0;34m,\u001b[0m \u001b[0;34m:\u001b[0m\u001b[0;34m]\u001b[0m\u001b[0;34m)\u001b[0m \u001b[0;34m*\u001b[0m                     \u001b[0;34m(\u001b[0m\u001b[0;36m1\u001b[0m \u001b[0;34m+\u001b[0m \u001b[0mnp\u001b[0m\u001b[0;34m.\u001b[0m\u001b[0msum\u001b[0m\u001b[0;34m(\u001b[0m\u001b[0mnp\u001b[0m\u001b[0;34m.\u001b[0m\u001b[0msquare\u001b[0m\u001b[0;34m(\u001b[0m\u001b[0my_lowd_m1\u001b[0m\u001b[0;34m[\u001b[0m\u001b[0mi\u001b[0m\u001b[0;34m,\u001b[0m \u001b[0;34m:\u001b[0m\u001b[0;34m]\u001b[0m \u001b[0;34m-\u001b[0m \u001b[0my_lowd_m1\u001b[0m\u001b[0;34m[\u001b[0m\u001b[0mj\u001b[0m\u001b[0;34m,\u001b[0m \u001b[0;34m:\u001b[0m\u001b[0;34m]\u001b[0m\u001b[0;34m)\u001b[0m\u001b[0;34m)\u001b[0m\u001b[0;34m)\u001b[0m \u001b[0;34m**\u001b[0m \u001b[0;34m(\u001b[0m\u001b[0;34m-\u001b[0m\u001b[0;36m1\u001b[0m\u001b[0;34m)\u001b[0m\u001b[0;34m\u001b[0m\u001b[0;34m\u001b[0m\u001b[0m\n\u001b[0m\u001b[1;32m     53\u001b[0m \u001b[0;34m\u001b[0m\u001b[0m\n\u001b[1;32m     54\u001b[0m         \u001b[0;31m##### Update low-dimensional data\u001b[0m\u001b[0;34m\u001b[0m\u001b[0;34m\u001b[0m\u001b[0;34m\u001b[0m\u001b[0m\n",
      "\u001b[0;31mKeyboardInterrupt\u001b[0m: "
     ]
    }
   ],
   "source": [
    "y_lowd = tsne(pij = p_ij, numrows = p_ij.shape[0], T = 500)\n",
    "#y_lowd = tsne(pij = p_ij, numrows = p_ij.shape[0], T = 300, eta = 500)\n",
    "#y_lowd = tsne(pij = p_ij, numrows = p_ij.shape[0], T = 500, eta = 500)"
   ]
  },
  {
   "cell_type": "code",
   "execution_count": 30,
   "metadata": {},
   "outputs": [],
   "source": [
    "# Save output from t-SNE for later use / analysis\n",
    "#np.save('500_iter_tsne', y_lowd)\n",
    "#y_lowd = np.load('500_iter_tsne.npy')"
   ]
  },
  {
   "cell_type": "code",
   "execution_count": 36,
   "metadata": {
    "collapsed": true
   },
   "outputs": [
    {
     "data": {
      "text/html": [
       "<div>\n",
       "<style scoped>\n",
       "    .dataframe tbody tr th:only-of-type {\n",
       "        vertical-align: middle;\n",
       "    }\n",
       "\n",
       "    .dataframe tbody tr th {\n",
       "        vertical-align: top;\n",
       "    }\n",
       "\n",
       "    .dataframe thead th {\n",
       "        text-align: right;\n",
       "    }\n",
       "</style>\n",
       "<table border=\"1\" class=\"dataframe\">\n",
       "  <thead>\n",
       "    <tr style=\"text-align: right;\">\n",
       "      <th></th>\n",
       "      <th>x</th>\n",
       "      <th>y</th>\n",
       "      <th>label</th>\n",
       "    </tr>\n",
       "  </thead>\n",
       "  <tbody>\n",
       "    <tr>\n",
       "      <th>0</th>\n",
       "      <td>103.129122</td>\n",
       "      <td>-221.712405</td>\n",
       "      <td>5</td>\n",
       "    </tr>\n",
       "    <tr>\n",
       "      <th>1</th>\n",
       "      <td>-327.128343</td>\n",
       "      <td>-137.732169</td>\n",
       "      <td>0</td>\n",
       "    </tr>\n",
       "    <tr>\n",
       "      <th>2</th>\n",
       "      <td>87.197663</td>\n",
       "      <td>-114.137637</td>\n",
       "      <td>4</td>\n",
       "    </tr>\n",
       "    <tr>\n",
       "      <th>3</th>\n",
       "      <td>180.286534</td>\n",
       "      <td>49.347622</td>\n",
       "      <td>1</td>\n",
       "    </tr>\n",
       "    <tr>\n",
       "      <th>4</th>\n",
       "      <td>-433.832302</td>\n",
       "      <td>151.368361</td>\n",
       "      <td>9</td>\n",
       "    </tr>\n",
       "    <tr>\n",
       "      <th>...</th>\n",
       "      <td>...</td>\n",
       "      <td>...</td>\n",
       "      <td>...</td>\n",
       "    </tr>\n",
       "    <tr>\n",
       "      <th>95</th>\n",
       "      <td>-99.391995</td>\n",
       "      <td>-194.351850</td>\n",
       "      <td>0</td>\n",
       "    </tr>\n",
       "    <tr>\n",
       "      <th>96</th>\n",
       "      <td>0.802966</td>\n",
       "      <td>-180.967183</td>\n",
       "      <td>7</td>\n",
       "    </tr>\n",
       "    <tr>\n",
       "      <th>97</th>\n",
       "      <td>58.103349</td>\n",
       "      <td>-254.443418</td>\n",
       "      <td>8</td>\n",
       "    </tr>\n",
       "    <tr>\n",
       "      <th>98</th>\n",
       "      <td>-260.262841</td>\n",
       "      <td>-182.621625</td>\n",
       "      <td>3</td>\n",
       "    </tr>\n",
       "    <tr>\n",
       "      <th>99</th>\n",
       "      <td>178.778005</td>\n",
       "      <td>232.203051</td>\n",
       "      <td>1</td>\n",
       "    </tr>\n",
       "  </tbody>\n",
       "</table>\n",
       "<p>100 rows × 3 columns</p>\n",
       "</div>"
      ],
      "text/plain": [
       "             x           y  label\n",
       "0   103.129122 -221.712405      5\n",
       "1  -327.128343 -137.732169      0\n",
       "2    87.197663 -114.137637      4\n",
       "3   180.286534   49.347622      1\n",
       "4  -433.832302  151.368361      9\n",
       "..         ...         ...    ...\n",
       "95  -99.391995 -194.351850      0\n",
       "96    0.802966 -180.967183      7\n",
       "97   58.103349 -254.443418      8\n",
       "98 -260.262841 -182.621625      3\n",
       "99  178.778005  232.203051      1\n",
       "\n",
       "[100 rows x 3 columns]"
      ]
     },
     "execution_count": 36,
     "metadata": {},
     "output_type": "execute_result"
    }
   ],
   "source": [
    "# Visualize results in dataframe\n",
    "df = pd.DataFrame(data = y_lowd[-1, :, :], columns = ['x', 'y'])\n",
    "df['label'] = y_sample\n",
    "df"
   ]
  },
  {
   "cell_type": "markdown",
   "metadata": {},
   "source": [
    "Plot results\n",
    "\n",
    "References:\n",
    "\n",
    "- Colors: https://matplotlib.org/stable/gallery/color/named_colors.html\n",
    "- Scatterplot with different colors by label: https://stackoverflow.com/questions/47006268/matplotlib-scatter-plot-with-color-label-and-legend-specified-by-c-option"
   ]
  },
  {
   "cell_type": "code",
   "execution_count": 37,
   "metadata": {},
   "outputs": [
    {
     "data": {
      "image/png": "[encoded data removed]",
      "text/plain": [
       "<Figure size 432x288 with 1 Axes>"
      ]
     },
     "metadata": {},
     "output_type": "display_data"
    }
   ],
   "source": [
    "scatter_x = y_lowd[-1, :, 0]\n",
    "scatter_y = y_lowd[-1, :, 1]\n",
    "group = y_sample\n",
    "cdict = {0: 'red', 1: 'blue', 2: 'green', 3: 'lime', 4: 'deepskyblue', 5: 'purple', 6: 'turquoise', \\\n",
    "            7: 'slategrey', 8: 'black', 9:'gold'}\n",
    "\n",
    "fig, ax = plt.subplots()\n",
    "for g in np.unique(group):\n",
    "    ix = np.where(group == g)\n",
    "    ax.scatter(scatter_x[ix], scatter_y[ix], c = cdict[g], label = g, s = 20)\n",
    "ax.legend(loc='center left', bbox_to_anchor=(1, 0.5))\n",
    "plt.title('MNIST visualization with t-SNE')\n",
    "plt.show()"
   ]
  },
  {
   "cell_type": "markdown",
   "metadata": {},
   "source": [
    "**Archives**"
   ]
  },
  {
   "cell_type": "code",
   "execution_count": null,
   "metadata": {},
   "outputs": [],
   "source": [
    "@jit\n",
    "def dist_calc(X, sigma_sq = 100):\n",
    "    dist = np.zeros(shape = (X.shape[0], X.shape[0]))\n",
    "    for i in range(dist.shape[0]):\n",
    "        denom = 0\n",
    "        for k in range(dist.shape[0]):\n",
    "            if i != k:\n",
    "                denom += np.exp(- np.sum(np.square(X[i, :] - X[k, :])) / (2 * sigma_sq))\n",
    "        for j in range(dist.shape[0]):\n",
    "            if i != j:\n",
    "                dist[i, j] = np.exp(- np.sum(np.square(X[i, :] - X[j, :])) / (2 * sigma_sq)) / denom\n",
    "    return dist"
   ]
  },
  {
   "cell_type": "markdown",
   "metadata": {},
   "source": [
    "Compute low-dimensional affinities $q_{ij}$ using Equation 4"
   ]
  },
  {
   "cell_type": "code",
   "execution_count": null,
   "metadata": {},
   "outputs": [],
   "source": [
    "# Initialize output\n",
    "q_ij = np.zeros(shape = (y_lowd_m1.shape[0], y_lowd_m1.shape[0]))\n",
    "\n",
    "# Calculate denominator, which is same for all q_ij values\n",
    "denom = 0\n",
    "for i in range(q_ij.shape[0]):\n",
    "    for j in range(q_ij.shape[0]):\n",
    "        if i != j:\n",
    "            denom += (1 + np.sum(np.square(y_lowd[i, :] - y_lowd[j, :]))) ** (-1)\n",
    "        \n",
    "# Calculate q_ij, which is a symmetric matrix\n",
    "for i in range(q_ij.shape[0]):\n",
    "    for j in range(q_ij.shape[0]):\n",
    "        if i != j:\n",
    "            q_ij[i, j] = (1 + np.sum(np.square(y_lowd[i, :] - y_lowd[j, :]))) ** (-1) / denom\n",
    "q_ij"
   ]
  },
  {
   "cell_type": "markdown",
   "metadata": {},
   "source": [
    "Compute gradient using Equation 5"
   ]
  },
  {
   "cell_type": "code",
   "execution_count": null,
   "metadata": {},
   "outputs": [],
   "source": [
    "grad = np.zeros(shape = y_lowd.shape)\n",
    "for i in range(y_lowd.shape[0]):\n",
    "    grad[i] = 0\n",
    "    for j in range(y_lowd.shape[0]):\n",
    "        grad[i] += (p_ij[i, j] - q_ij[i, j]) * (y_lowd[i, :] - y_lowd[j, :]) * \\\n",
    "            (1 + np.sum(np.square(y_lowd[i, :] - y_lowd[j, :]))) ** (-1)"
   ]
  },
  {
   "cell_type": "markdown",
   "metadata": {},
   "source": [
    "Update values of low-dimensional data"
   ]
  },
  {
   "cell_type": "code",
   "execution_count": null,
   "metadata": {},
   "outputs": [],
   "source": [
    "y_lowd_new = y_lowd_m1 + eta * grad + alpha * (y_lowd_m1 - y_lowd_m2)\n",
    "y_lowd_new"
   ]
  },
  {
   "cell_type": "markdown",
   "metadata": {},
   "source": [
    "Sample initial solution (two iterations) from $N(0, 10^{-4}I)$"
   ]
  },
  {
   "cell_type": "code",
   "execution_count": null,
   "metadata": {},
   "outputs": [],
   "source": [
    "ndims = 2\n",
    "y_lowd_m1 = np.random.multivariate_normal(mean = np.zeros(shape = (ndims * X_sample_PC.shape[0])), \\\n",
    "                                  cov = 10 ** -4 * np.eye(N = ndims * X_sample_PC.shape[0])).reshape(-1, 2)\n",
    "y_lowd_m2 = np.random.multivariate_normal(mean = np.zeros(shape = (ndims * X_sample_PC.shape[0])), \\\n",
    "                                  cov = 10 ** -4 * np.eye(N = ndims * X_sample_PC.shape[0])).reshape(-1, 2)"
   ]
  },
  {
   "cell_type": "markdown",
   "metadata": {},
   "source": [
    "Iteratively improve upon initial solution"
   ]
  },
  {
   "cell_type": "code",
   "execution_count": null,
   "metadata": {},
   "outputs": [],
   "source": [
    "# See page 2588 for optimization opportunities\n",
    "\n",
    "# Set constants, and initialize low-dimensional data storage array\n",
    "alpha = 0.5\n",
    "T = 1000\n",
    "eta = 100\n",
    "y_lowd = np.zeros(shape = (T + 1, X_sample_PC.shape[0], ndims))\n",
    "y_lowd[0, :, :] = y_lowd_m2\n",
    "y_lowd[1, :, :] = y_lowd_m1"
   ]
  },
  {
   "cell_type": "code",
   "execution_count": null,
   "metadata": {},
   "outputs": [],
   "source": [
    "for q in range(2, T + 1):\n",
    "    \n",
    "    ##### Compute low-dimensional affinities\n",
    "    q_ij = np.zeros(shape = (y_lowd.shape[1], y_lowd.shape[1]))\n",
    "    # Calculate denominator, which is same for all q_ij values\n",
    "    denom = 0\n",
    "    for i in range(q_ij.shape[0]):\n",
    "        for j in range(q_ij.shape[0]):\n",
    "            if i != j:\n",
    "                denom += (1 + np.sum(np.square(y_lowd_m1[i, :] - y_lowd_m1[j, :]))) ** (-1)\n",
    "    # Calculate q_ij, which is a symmetric matrix\n",
    "    for i in range(q_ij.shape[0]):\n",
    "        for j in range(q_ij.shape[0]):\n",
    "            if i != j:\n",
    "                q_ij[i, j] = (1 + np.sum(np.square(y_lowd_m1[i, :] - y_lowd_m1[j, :]))) ** (-1) / denom\n",
    "    \n",
    "    ##### Compute gradient\n",
    "    grad = np.zeros(shape = (y_lowd.shape[1], y_lowd.shape[2]))\n",
    "    for i in range(grad.shape[0]):\n",
    "        grad[i] = 0\n",
    "        for j in range(grad.shape[0]):\n",
    "            grad[i] += (p_ij[i, j] - q_ij[i, j]) * (y_lowd_m1[i, :] - y_lowd_m1[j, :]) * \\\n",
    "                (1 + np.sum(np.square(y_lowd_m1[i, :] - y_lowd_m1[j, :]))) ** (-1)\n",
    "    \n",
    "    ##### Update low-dimensional data\n",
    "    y_lowd_new = y_lowd_m1 + eta * grad + alpha * (y_lowd_m1 - y_lowd_m2)\n",
    "    y_lowd_m2, y_lowd_m1 = y_lowd_m1, y_lowd_new\n",
    "    y_lowd[q, :, :] = y_lowd_new"
   ]
  }
 ],
 "metadata": {
  "kernelspec": {
   "display_name": "Python 3",
   "language": "python",
   "name": "python3"
  },
  "language_info": {
   "codemirror_mode": {
    "name": "ipython",
    "version": 3
   },
   "file_extension": ".py",
   "mimetype": "text/x-python",
   "name": "python",
   "nbconvert_exporter": "python",
   "pygments_lexer": "ipython3",
   "version": "3.6.10"
  }
 },
 "nbformat": 4,
 "nbformat_minor": 2
}
