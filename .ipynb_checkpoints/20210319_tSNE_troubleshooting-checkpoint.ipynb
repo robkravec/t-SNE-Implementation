{
 "cells": [
  {
   "cell_type": "code",
   "execution_count": 1,
   "metadata": {},
   "outputs": [],
   "source": [
    "# Imports\n",
    "import numpy as np\n",
    "import matplotlib.pyplot as plt\n",
    "from numba import jit\n",
    "np.random.seed(1234)"
   ]
  },
  {
   "cell_type": "code",
   "execution_count": 15,
   "metadata": {},
   "outputs": [],
   "source": [
    "p_RK = np.load('pij_RK.npy')\n",
    "p_SW = np.load('pij_SW.npy')\n",
    "p_MB = np.load('pij_MB.npy')\n",
    "q_RK = np.load('qij_RK.npy')\n",
    "q_SW = np.load('qij_SW.npy')\n",
    "q_MB = np.load('qij_MB.npy')"
   ]
  },
  {
   "cell_type": "code",
   "execution_count": 12,
   "metadata": {
    "collapsed": true
   },
   "outputs": [
    {
     "data": {
      "text/plain": [
       "array([[0.00000000e+000, 3.41696760e-008, 4.90078521e-007, ...,\n",
       "        1.43743453e-116, 1.63072812e-122, 1.72369087e-155],\n",
       "       [3.41696760e-008, 0.00000000e+000, 1.72588718e-007, ...,\n",
       "        1.98676609e-123, 1.17738511e-122, 4.52098583e-125],\n",
       "       [4.90078521e-007, 1.72588718e-007, 0.00000000e+000, ...,\n",
       "        4.53597241e-116, 2.17914752e-095, 3.07697465e-099],\n",
       "       ...,\n",
       "       [1.43743453e-116, 1.98676609e-123, 4.53597241e-116, ...,\n",
       "        0.00000000e+000, 1.14976476e-011, 1.19842414e-008],\n",
       "       [1.63072812e-122, 1.17738511e-122, 2.17914752e-095, ...,\n",
       "        1.14976476e-011, 0.00000000e+000, 2.19846957e-006],\n",
       "       [1.72369087e-155, 4.52098583e-125, 3.07697465e-099, ...,\n",
       "        1.19842414e-008, 2.19846957e-006, 0.00000000e+000]])"
      ]
     },
     "execution_count": 12,
     "metadata": {},
     "output_type": "execute_result"
    }
   ],
   "source": [
    "p_RK"
   ]
  },
  {
   "cell_type": "code",
   "execution_count": 6,
   "metadata": {
    "collapsed": true
   },
   "outputs": [
    {
     "data": {
      "text/plain": [
       "array([[0.00000000e+000, 1.48298007e-007, 2.61049566e-004, ...,\n",
       "        3.73777056e-103, 5.68081260e-097, 3.82932338e-105],\n",
       "       [1.48298007e-007, 0.00000000e+000, 4.52738972e-006, ...,\n",
       "        3.98494846e-111, 4.85419429e-106, 1.36668436e-128],\n",
       "       [2.61049566e-004, 4.52738972e-006, 0.00000000e+000, ...,\n",
       "        1.12906960e-117, 2.98352231e-121, 3.94939834e-110],\n",
       "       ...,\n",
       "       [3.73777056e-103, 3.98494846e-111, 1.12906960e-117, ...,\n",
       "        0.00000000e+000, 1.65460135e-007, 3.32002597e-008],\n",
       "       [5.68081260e-097, 4.85419429e-106, 2.98352231e-121, ...,\n",
       "        1.65460135e-007, 0.00000000e+000, 4.27307161e-007],\n",
       "       [3.82932338e-105, 1.36668436e-128, 3.94939834e-110, ...,\n",
       "        3.32002597e-008, 4.27307161e-007, 0.00000000e+000]])"
      ]
     },
     "execution_count": 6,
     "metadata": {},
     "output_type": "execute_result"
    }
   ],
   "source": [
    "p_SW"
   ]
  },
  {
   "cell_type": "code",
   "execution_count": 7,
   "metadata": {
    "collapsed": true
   },
   "outputs": [
    {
     "data": {
      "text/plain": [
       "array([[0.00000000e+000, 3.41696754e-008, 4.90078506e-007, ...,\n",
       "        1.43744151e-116, 1.63072695e-122, 1.72369377e-155],\n",
       "       [3.41696754e-008, 0.00000000e+000, 1.72588711e-007, ...,\n",
       "        1.98677633e-123, 1.17738410e-122, 4.52098187e-125],\n",
       "       [4.90078506e-007, 1.72588711e-007, 0.00000000e+000, ...,\n",
       "        4.53599433e-116, 2.17914397e-095, 3.07696941e-099],\n",
       "       ...,\n",
       "       [1.43744151e-116, 1.98677633e-123, 4.53599433e-116, ...,\n",
       "        0.00000000e+000, 1.14976508e-011, 1.19842432e-008],\n",
       "       [1.63072695e-122, 1.17738410e-122, 2.17914397e-095, ...,\n",
       "        1.14976508e-011, 0.00000000e+000, 2.19846956e-006],\n",
       "       [1.72369377e-155, 4.52098187e-125, 3.07696941e-099, ...,\n",
       "        1.19842432e-008, 2.19846956e-006, 0.00000000e+000]])"
      ]
     },
     "execution_count": 7,
     "metadata": {},
     "output_type": "execute_result"
    }
   ],
   "source": [
    "p_MB"
   ]
  },
  {
   "cell_type": "code",
   "execution_count": 11,
   "metadata": {
    "collapsed": true
   },
   "outputs": [
    {
     "data": {
      "text/plain": [
       "array([[0.00000000e+00, 5.90242328e-06, 5.35988416e-06, ...,\n",
       "        3.40456861e-07, 2.92883368e-07, 3.54567043e-07],\n",
       "       [5.90242328e-06, 0.00000000e+00, 1.21000695e-05, ...,\n",
       "        4.48189581e-07, 3.94699975e-07, 4.96584180e-07],\n",
       "       [5.35988416e-06, 1.21000695e-05, 0.00000000e+00, ...,\n",
       "        4.73691107e-07, 4.14566320e-07, 5.24210347e-07],\n",
       "       ...,\n",
       "       [3.40456861e-07, 4.48189581e-07, 4.73691107e-07, ...,\n",
       "        0.00000000e+00, 4.72247909e-06, 4.36944279e-06],\n",
       "       [2.92883368e-07, 3.94699975e-07, 4.14566320e-07, ...,\n",
       "        4.72247909e-06, 0.00000000e+00, 8.73688018e-06],\n",
       "       [3.54567043e-07, 4.96584180e-07, 5.24210347e-07, ...,\n",
       "        4.36944279e-06, 8.73688018e-06, 0.00000000e+00]])"
      ]
     },
     "execution_count": 11,
     "metadata": {},
     "output_type": "execute_result"
    }
   ],
   "source": [
    "q_RK"
   ]
  },
  {
   "cell_type": "code",
   "execution_count": 9,
   "metadata": {
    "collapsed": true
   },
   "outputs": [
    {
     "data": {
      "text/plain": [
       "array([[0.00000000e+00, 5.90242328e-06, 5.35988416e-06, ...,\n",
       "        3.40456861e-07, 2.92883368e-07, 3.54567043e-07],\n",
       "       [5.90242328e-06, 0.00000000e+00, 1.21000695e-05, ...,\n",
       "        4.48189581e-07, 3.94699975e-07, 4.96584180e-07],\n",
       "       [5.35988416e-06, 1.21000695e-05, 0.00000000e+00, ...,\n",
       "        4.73691107e-07, 4.14566320e-07, 5.24210347e-07],\n",
       "       ...,\n",
       "       [3.40456861e-07, 4.48189581e-07, 4.73691107e-07, ...,\n",
       "        0.00000000e+00, 4.72247909e-06, 4.36944279e-06],\n",
       "       [2.92883368e-07, 3.94699975e-07, 4.14566320e-07, ...,\n",
       "        4.72247909e-06, 0.00000000e+00, 8.73688018e-06],\n",
       "       [3.54567043e-07, 4.96584180e-07, 5.24210347e-07, ...,\n",
       "        4.36944279e-06, 8.73688018e-06, 0.00000000e+00]])"
      ]
     },
     "execution_count": 9,
     "metadata": {},
     "output_type": "execute_result"
    }
   ],
   "source": [
    "q_MB"
   ]
  },
  {
   "cell_type": "code",
   "execution_count": 10,
   "metadata": {
    "collapsed": true
   },
   "outputs": [
    {
     "data": {
      "text/plain": [
       "array([[0.        , 0.00475947, 0.00709803, ..., 0.00029589, 0.00039912,\n",
       "        0.00030851],\n",
       "       [0.0042588 , 0.        , 0.00508307, ..., 0.00025452, 0.00034853,\n",
       "        0.00025706],\n",
       "       [0.00620643, 0.00496708, 0.        , ..., 0.00024495, 0.00032978,\n",
       "        0.00025316],\n",
       "       ...,\n",
       "       [0.000217  , 0.00020861, 0.00020545, ..., 0.        , 0.00336764,\n",
       "        0.00427665],\n",
       "       [0.00034744, 0.00033906, 0.00032832, ..., 0.00399732, 0.        ,\n",
       "        0.00316677],\n",
       "       [0.00024433, 0.00022751, 0.00022929, ..., 0.00461824, 0.00288102,\n",
       "        0.        ]])"
      ]
     },
     "execution_count": 10,
     "metadata": {},
     "output_type": "execute_result"
    }
   ],
   "source": [
    "q_SW"
   ]
  },
  {
   "cell_type": "code",
   "execution_count": 2,
   "metadata": {},
   "outputs": [],
   "source": [
    "# Generate dataset\n",
    "n = 500\n",
    "p = 5\n",
    "X = np.r_[np.random.normal(-2, 1/2, [n//2, p]), np.random.normal(2, 1/2, [n//2, p])]\n",
    "y = X[:, 0:2]"
   ]
  },
  {
   "cell_type": "code",
   "execution_count": 3,
   "metadata": {},
   "outputs": [
    {
     "data": {
      "image/png": "[encoded data removed]",
      "text/plain": [
       "<Figure size 432x288 with 1 Axes>"
      ]
     },
     "metadata": {},
     "output_type": "display_data"
    }
   ],
   "source": [
    "# Display y\n",
    "plt.scatter(x = y[:, 0], y = y[:, 1]);"
   ]
  },
  {
   "cell_type": "markdown",
   "metadata": {},
   "source": [
    "Calculate $p_{j|i}$ matrix for a target perplexity"
   ]
  },
  {
   "cell_type": "code",
   "execution_count": null,
   "metadata": {},
   "outputs": [],
   "source": [
    "mat = np.square(X[None, :], X[:, None]).sum(axis = -1)"
   ]
  },
  {
   "cell_type": "code",
   "execution_count": 34,
   "metadata": {},
   "outputs": [
    {
     "data": {
      "text/plain": [
       "array([[0, 1, 2],\n",
       "       [3, 4, 5],\n",
       "       [6, 7, 8]])"
      ]
     },
     "execution_count": 34,
     "metadata": {},
     "output_type": "execute_result"
    }
   ],
   "source": [
    "test = np.arange(9).reshape(3, -1)\n",
    "test"
   ]
  },
  {
   "cell_type": "code",
   "execution_count": 35,
   "metadata": {},
   "outputs": [],
   "source": [
    "np.fill_diagonal(test, 0)"
   ]
  },
  {
   "cell_type": "code",
   "execution_count": 36,
   "metadata": {},
   "outputs": [
    {
     "data": {
      "text/plain": [
       "array([[0, 1, 2],\n",
       "       [3, 0, 5],\n",
       "       [6, 7, 0]])"
      ]
     },
     "execution_count": 36,
     "metadata": {},
     "output_type": "execute_result"
    }
   ],
   "source": [
    "test"
   ]
  },
  {
   "cell_type": "code",
   "execution_count": 52,
   "metadata": {},
   "outputs": [],
   "source": [
    "def dist_calc2(X, perplexity = 30.0, tolerance = 1e-6, sigma_sq_init = 100, maxit = 250):\n",
    "    \n",
    "    # Calculate distances between rows\n",
    "    dist = np.square(X[None, :] - X[:, None]).sum(axis = -1)\n",
    "    np.fill_diagonal(dist, 0)\n",
    "    final_dist = np.zeros(shape = dist.shape)\n",
    "    \n",
    "    # Find appropriate values of sigma_sq based on specified perplexity\n",
    "    for i in range(dist.shape[0]):\n",
    "        \n",
    "        # Reset parameters for each row of the distance matrix\n",
    "        sigma_sq = sigma_sq_init\n",
    "        sigma_sq_max = np.inf\n",
    "        sigma_sq_min = 0\n",
    "        perp = 0\n",
    "        attempts = 0\n",
    "        \n",
    "        # Adjust sigma_sq until desired perplexity is reached (within tolerance)\n",
    "        while np.abs(perp - perplexity) > tolerance and attempts < maxit:\n",
    "            if perp < perplexity and attempts != 0:\n",
    "                sigma_sq_min = sigma_sq\n",
    "                if sigma_sq_max == np.inf:\n",
    "                    sigma_sq *= 2\n",
    "                else:\n",
    "                    sigma_sq = (sigma_sq + sigma_sq_max) / 2\n",
    "            elif attempts != 0:\n",
    "                sigma_sq_max = sigma_sq\n",
    "                sigma_sq *= 0.5\n",
    "            attempts += 1\n",
    "            \n",
    "            # Calculate affinities based on new sigma_sq\n",
    "            final_dist[i, :] = np.exp(-dist[i, :] / (2 * sigma_sq))\n",
    "            final_dist[i, i] = 0\n",
    "            final_dist[i, :] = final_dist[i, :] / final_dist[i, :].sum()\n",
    "            \n",
    "            # Check perplexity\n",
    "            perp = 2 ** (- np.sum(final_dist[i, :] * np.where(final_dist[i, :] != 0, np.log2(final_dist[i, :]), 0)))\n",
    "    \n",
    "    return final_dist"
   ]
  },
  {
   "cell_type": "code",
   "execution_count": 53,
   "metadata": {},
   "outputs": [
    {
     "name": "stderr",
     "output_type": "stream",
     "text": [
      "/opt/conda/lib/python3.6/site-packages/ipykernel_launcher.py:37: RuntimeWarning: divide by zero encountered in log2\n"
     ]
    }
   ],
   "source": [
    "dist2 = dist_calc2(X)"
   ]
  },
  {
   "cell_type": "code",
   "execution_count": 54,
   "metadata": {},
   "outputs": [
    {
     "data": {
      "text/plain": [
       "<matplotlib.image.AxesImage at 0x7fefa2eff390>"
      ]
     },
     "execution_count": 54,
     "metadata": {},
     "output_type": "execute_result"
    },
    {
     "data": {
      "image/png": "[encoded data removed]",
      "text/plain": [
       "<Figure size 432x288 with 1 Axes>"
      ]
     },
     "metadata": {},
     "output_type": "display_data"
    }
   ],
   "source": [
    "plt.imshow(dist2)"
   ]
  },
  {
   "cell_type": "code",
   "execution_count": 55,
   "metadata": {
    "collapsed": true
   },
   "outputs": [
    {
     "name": "stderr",
     "output_type": "stream",
     "text": [
      "/opt/conda/lib/python3.6/site-packages/ipykernel_launcher.py:1: RuntimeWarning: divide by zero encountered in log2\n",
      "  \"\"\"Entry point for launching an IPython kernel.\n"
     ]
    },
    {
     "data": {
      "text/plain": [
       "array([[30.00000037],\n",
       "       [30.00000005],\n",
       "       [30.00000038],\n",
       "       [30.00000034],\n",
       "       [29.99999992],\n",
       "       [30.00000015],\n",
       "       [30.00000099],\n",
       "       [30.00000014],\n",
       "       [30.00000019],\n",
       "       [29.99999939],\n",
       "       [30.0000005 ],\n",
       "       [29.99999972],\n",
       "       [30.00000063],\n",
       "       [29.99999936],\n",
       "       [29.99999966],\n",
       "       [29.99999984],\n",
       "       [30.00000075],\n",
       "       [30.00000094],\n",
       "       [30.00000084],\n",
       "       [29.99999984],\n",
       "       [29.99999967],\n",
       "       [29.99999963],\n",
       "       [30.0000002 ],\n",
       "       [30.00000039],\n",
       "       [30.00000052],\n",
       "       [29.99999964],\n",
       "       [30.00000067],\n",
       "       [30.00000029],\n",
       "       [29.99999947],\n",
       "       [29.9999997 ],\n",
       "       [29.9999996 ],\n",
       "       [29.99999987],\n",
       "       [30.00000082],\n",
       "       [29.99999983],\n",
       "       [30.00000073],\n",
       "       [29.9999994 ],\n",
       "       [30.0000007 ],\n",
       "       [30.00000079],\n",
       "       [30.00000059],\n",
       "       [29.99999952],\n",
       "       [29.99999998],\n",
       "       [30.00000053],\n",
       "       [30.00000072],\n",
       "       [29.99999995],\n",
       "       [29.99999979],\n",
       "       [29.99999962],\n",
       "       [29.99999962],\n",
       "       [30.00000095],\n",
       "       [29.99999952],\n",
       "       [30.00000049],\n",
       "       [29.99999925],\n",
       "       [29.99999939],\n",
       "       [29.99999956],\n",
       "       [29.99999938],\n",
       "       [30.00000082],\n",
       "       [30.00000046],\n",
       "       [29.99999935],\n",
       "       [30.00000016],\n",
       "       [29.99999918],\n",
       "       [29.99999972],\n",
       "       [29.99999948],\n",
       "       [30.00000005],\n",
       "       [30.0000002 ],\n",
       "       [30.00000009],\n",
       "       [30.00000005],\n",
       "       [30.00000001],\n",
       "       [30.00000032],\n",
       "       [30.00000008],\n",
       "       [30.00000018],\n",
       "       [30.00000022],\n",
       "       [30.00000001],\n",
       "       [29.99999979],\n",
       "       [29.99999902],\n",
       "       [29.99999986],\n",
       "       [29.99999977],\n",
       "       [29.99999959],\n",
       "       [29.99999988],\n",
       "       [29.99999929],\n",
       "       [30.00000069],\n",
       "       [29.99999993],\n",
       "       [30.00000005],\n",
       "       [30.00000042],\n",
       "       [30.0000005 ],\n",
       "       [29.99999968],\n",
       "       [30.00000007],\n",
       "       [29.99999969],\n",
       "       [29.99999953],\n",
       "       [29.99999975],\n",
       "       [30.00000017],\n",
       "       [29.99999929],\n",
       "       [30.00000026],\n",
       "       [29.99999958],\n",
       "       [30.00000079],\n",
       "       [29.99999996],\n",
       "       [30.00000043],\n",
       "       [29.99999933],\n",
       "       [29.99999964],\n",
       "       [30.00000065],\n",
       "       [29.99999926],\n",
       "       [30.00000025],\n",
       "       [29.99999906],\n",
       "       [30.00000092],\n",
       "       [29.99999923],\n",
       "       [29.99999949],\n",
       "       [29.99999946],\n",
       "       [30.00000084],\n",
       "       [30.00000003],\n",
       "       [29.99999965],\n",
       "       [30.00000096],\n",
       "       [29.99999989],\n",
       "       [30.00000016],\n",
       "       [30.00000089],\n",
       "       [30.00000012],\n",
       "       [30.00000034],\n",
       "       [29.99999909],\n",
       "       [30.00000008],\n",
       "       [30.0000007 ],\n",
       "       [29.99999953],\n",
       "       [30.00000015],\n",
       "       [30.00000005],\n",
       "       [29.99999994],\n",
       "       [29.99999942],\n",
       "       [30.00000054],\n",
       "       [29.99999977],\n",
       "       [29.99999957],\n",
       "       [29.99999934],\n",
       "       [29.99999964],\n",
       "       [30.00000037],\n",
       "       [30.00000018],\n",
       "       [30.00000035],\n",
       "       [29.99999959],\n",
       "       [30.00000072],\n",
       "       [30.00000095],\n",
       "       [29.99999956],\n",
       "       [29.99999982],\n",
       "       [29.99999949],\n",
       "       [29.99999937],\n",
       "       [29.99999909],\n",
       "       [29.99999988],\n",
       "       [30.00000046],\n",
       "       [29.99999937],\n",
       "       [30.00000027],\n",
       "       [29.99999975],\n",
       "       [30.00000031],\n",
       "       [30.00000045],\n",
       "       [30.00000086],\n",
       "       [29.99999941],\n",
       "       [30.0000004 ],\n",
       "       [30.00000095],\n",
       "       [30.00000038],\n",
       "       [30.00000031],\n",
       "       [29.99999936],\n",
       "       [29.99999866],\n",
       "       [29.99999982],\n",
       "       [29.99999908],\n",
       "       [29.9999996 ],\n",
       "       [30.0000001 ],\n",
       "       [30.00000051],\n",
       "       [30.00000067],\n",
       "       [29.99999928],\n",
       "       [30.00000004],\n",
       "       [29.99999981],\n",
       "       [29.99999913],\n",
       "       [30.0000006 ],\n",
       "       [29.99999935],\n",
       "       [29.99999986],\n",
       "       [30.00000031],\n",
       "       [29.99999954],\n",
       "       [29.99999937],\n",
       "       [29.99999956],\n",
       "       [30.00000077],\n",
       "       [29.99999948],\n",
       "       [29.99999974],\n",
       "       [30.00000085],\n",
       "       [30.        ],\n",
       "       [30.00000017],\n",
       "       [29.99999985],\n",
       "       [29.99999926],\n",
       "       [30.00000027],\n",
       "       [30.0000004 ],\n",
       "       [29.99999995],\n",
       "       [30.0000001 ],\n",
       "       [29.99999929],\n",
       "       [30.00000031],\n",
       "       [30.00000014],\n",
       "       [30.00000005],\n",
       "       [30.00000085],\n",
       "       [29.99999999],\n",
       "       [30.00000011],\n",
       "       [29.99999939],\n",
       "       [30.00000013],\n",
       "       [30.00000006],\n",
       "       [30.00000085],\n",
       "       [30.0000002 ],\n",
       "       [30.00000099],\n",
       "       [30.00000023],\n",
       "       [30.00000069],\n",
       "       [30.00000083],\n",
       "       [29.99999966],\n",
       "       [29.99999971],\n",
       "       [29.99999989],\n",
       "       [29.99999967],\n",
       "       [29.99999991],\n",
       "       [29.99999959],\n",
       "       [29.99999948],\n",
       "       [29.99999993],\n",
       "       [29.99999977],\n",
       "       [30.00000027],\n",
       "       [30.00000038],\n",
       "       [29.99999979],\n",
       "       [29.99999992],\n",
       "       [29.99999982],\n",
       "       [30.00000009],\n",
       "       [30.00000085],\n",
       "       [29.99999908],\n",
       "       [30.0000006 ],\n",
       "       [29.99999921],\n",
       "       [30.00000078],\n",
       "       [30.00000043],\n",
       "       [29.99999974],\n",
       "       [29.99999984],\n",
       "       [29.99999992],\n",
       "       [29.99999994],\n",
       "       [29.99999919],\n",
       "       [29.9999996 ],\n",
       "       [29.99999986],\n",
       "       [29.99999967],\n",
       "       [29.99999955],\n",
       "       [30.00000045],\n",
       "       [30.00000014],\n",
       "       [29.99999926],\n",
       "       [30.0000001 ],\n",
       "       [29.99999908],\n",
       "       [29.99999972],\n",
       "       [30.00000079],\n",
       "       [29.99999948],\n",
       "       [30.00000085],\n",
       "       [29.99999976],\n",
       "       [30.00000024],\n",
       "       [29.99999918],\n",
       "       [29.99999915],\n",
       "       [29.99999988],\n",
       "       [29.99999939],\n",
       "       [29.99999965],\n",
       "       [29.9999999 ],\n",
       "       [29.99999957],\n",
       "       [29.99999912],\n",
       "       [29.99999946],\n",
       "       [30.00000039],\n",
       "       [29.99999918],\n",
       "       [29.99999955],\n",
       "       [30.00000041],\n",
       "       [30.00000064],\n",
       "       [30.00000069],\n",
       "       [29.99999996],\n",
       "       [29.99999911],\n",
       "       [30.00000064],\n",
       "       [30.00000069],\n",
       "       [30.00000086],\n",
       "       [29.99999959],\n",
       "       [29.99999928],\n",
       "       [29.99999948],\n",
       "       [29.99999965],\n",
       "       [30.000001  ],\n",
       "       [29.99999974],\n",
       "       [29.99999995],\n",
       "       [29.99999998],\n",
       "       [29.99999617],\n",
       "       [30.00000043],\n",
       "       [30.00000067],\n",
       "       [30.00000063],\n",
       "       [29.99999989],\n",
       "       [29.99999933],\n",
       "       [29.99999974],\n",
       "       [30.00000012],\n",
       "       [30.00000025],\n",
       "       [30.00000028],\n",
       "       [30.00000004],\n",
       "       [29.99999986],\n",
       "       [30.00000072],\n",
       "       [29.99999979],\n",
       "       [30.0000007 ],\n",
       "       [30.0000006 ],\n",
       "       [30.00000045],\n",
       "       [29.99999993],\n",
       "       [30.00000038],\n",
       "       [29.99999924],\n",
       "       [30.00000013],\n",
       "       [30.0000004 ],\n",
       "       [29.99999987],\n",
       "       [29.99999992],\n",
       "       [29.99999917],\n",
       "       [29.99999981],\n",
       "       [30.00000042],\n",
       "       [29.99999996],\n",
       "       [29.99999991],\n",
       "       [30.00000008],\n",
       "       [30.00000035],\n",
       "       [30.00000026],\n",
       "       [29.99999957],\n",
       "       [30.00000001],\n",
       "       [29.99999966],\n",
       "       [30.00000081],\n",
       "       [30.00000094],\n",
       "       [30.00000004],\n",
       "       [30.00000019],\n",
       "       [29.99999946],\n",
       "       [30.00000001],\n",
       "       [30.00000076],\n",
       "       [30.00000093],\n",
       "       [29.99999987],\n",
       "       [29.99999909],\n",
       "       [29.99999982],\n",
       "       [29.99999946],\n",
       "       [29.99999914],\n",
       "       [29.99999969],\n",
       "       [29.99999976],\n",
       "       [29.99999995],\n",
       "       [30.00000014],\n",
       "       [29.99999989],\n",
       "       [30.00000071],\n",
       "       [30.00000028],\n",
       "       [29.99999939],\n",
       "       [29.99999911],\n",
       "       [30.00000003],\n",
       "       [30.00000025],\n",
       "       [30.00000035],\n",
       "       [29.99999997],\n",
       "       [30.0000007 ],\n",
       "       [30.00000003],\n",
       "       [30.00000003],\n",
       "       [30.0000002 ],\n",
       "       [29.99999938],\n",
       "       [30.00000069],\n",
       "       [29.99999991],\n",
       "       [29.99999905],\n",
       "       [29.99999997],\n",
       "       [30.00000046],\n",
       "       [30.00000005],\n",
       "       [30.00000068],\n",
       "       [30.00000023],\n",
       "       [30.0000005 ],\n",
       "       [30.00000015],\n",
       "       [29.99999903],\n",
       "       [29.99999999],\n",
       "       [29.99999977],\n",
       "       [30.00000072],\n",
       "       [29.99999924],\n",
       "       [29.99999956],\n",
       "       [30.00000023],\n",
       "       [30.00000066],\n",
       "       [30.00000048],\n",
       "       [29.99999965],\n",
       "       [29.99999981],\n",
       "       [29.99999905],\n",
       "       [29.9999991 ],\n",
       "       [29.99999906],\n",
       "       [29.99999942],\n",
       "       [30.0000004 ],\n",
       "       [30.0000006 ],\n",
       "       [29.99999975],\n",
       "       [30.00000023],\n",
       "       [30.00000051],\n",
       "       [29.99999923],\n",
       "       [30.00000048],\n",
       "       [27.96648812],\n",
       "       [29.99999973],\n",
       "       [30.00000038],\n",
       "       [30.00000057],\n",
       "       [29.99999991],\n",
       "       [29.99999971],\n",
       "       [30.00000035],\n",
       "       [30.00000026],\n",
       "       [30.00000006],\n",
       "       [29.99999906],\n",
       "       [30.00000035],\n",
       "       [30.00000005],\n",
       "       [30.        ],\n",
       "       [30.00000003],\n",
       "       [30.00000064],\n",
       "       [29.99999946],\n",
       "       [29.99999948],\n",
       "       [30.00000008],\n",
       "       [30.00000049],\n",
       "       [30.00000069],\n",
       "       [30.00000082],\n",
       "       [30.00000019],\n",
       "       [29.99999975],\n",
       "       [29.99999949],\n",
       "       [29.9999994 ],\n",
       "       [29.99999988],\n",
       "       [29.99999975],\n",
       "       [29.99999959],\n",
       "       [30.00000074],\n",
       "       [30.0000001 ],\n",
       "       [30.00000071],\n",
       "       [29.99999904],\n",
       "       [30.00000087],\n",
       "       [29.99999989],\n",
       "       [30.00000068],\n",
       "       [30.00000023],\n",
       "       [30.00000049],\n",
       "       [29.99999966],\n",
       "       [30.00000072],\n",
       "       [29.9999997 ],\n",
       "       [29.99999939],\n",
       "       [30.00000021],\n",
       "       [29.99999955],\n",
       "       [30.00000092],\n",
       "       [30.00000054],\n",
       "       [30.00000033],\n",
       "       [29.9999991 ],\n",
       "       [29.99999965],\n",
       "       [30.00000007],\n",
       "       [30.00000026],\n",
       "       [30.0000001 ],\n",
       "       [30.00000049],\n",
       "       [29.99999997],\n",
       "       [29.99999978],\n",
       "       [30.00000031],\n",
       "       [30.00000037],\n",
       "       [30.00000033],\n",
       "       [30.00000052],\n",
       "       [29.99999937],\n",
       "       [29.99999988],\n",
       "       [30.00000044],\n",
       "       [30.00000015],\n",
       "       [30.00000011],\n",
       "       [29.99999955],\n",
       "       [29.99999934],\n",
       "       [29.99999988],\n",
       "       [30.00000093],\n",
       "       [29.99999926],\n",
       "       [29.9999998 ],\n",
       "       [29.99999948],\n",
       "       [30.00000075],\n",
       "       [30.00000017],\n",
       "       [30.0000008 ],\n",
       "       [29.99999947],\n",
       "       [29.9999995 ],\n",
       "       [29.99999939],\n",
       "       [29.99997334],\n",
       "       [30.00000067],\n",
       "       [30.00000027],\n",
       "       [29.9999999 ],\n",
       "       [30.00000089],\n",
       "       [29.99999984],\n",
       "       [29.99999919],\n",
       "       [29.99999886],\n",
       "       [29.99999927],\n",
       "       [30.00000079],\n",
       "       [30.00000041],\n",
       "       [30.00000007],\n",
       "       [29.99999928],\n",
       "       [30.00000007],\n",
       "       [30.00000044],\n",
       "       [29.99999981],\n",
       "       [30.00000084],\n",
       "       [29.99999928],\n",
       "       [30.00000066],\n",
       "       [30.00000071],\n",
       "       [29.99999918],\n",
       "       [30.00000043],\n",
       "       [30.0000003 ],\n",
       "       [30.00000058],\n",
       "       [29.99999956],\n",
       "       [29.99999941],\n",
       "       [29.99999951],\n",
       "       [29.99999978],\n",
       "       [30.00000075],\n",
       "       [30.00000009],\n",
       "       [30.        ],\n",
       "       [29.99999928],\n",
       "       [29.99999953],\n",
       "       [29.99999907],\n",
       "       [30.00000032],\n",
       "       [30.00000091],\n",
       "       [29.99999903],\n",
       "       [30.00000014],\n",
       "       [30.00000098],\n",
       "       [30.00000064],\n",
       "       [29.99999946],\n",
       "       [30.0000002 ],\n",
       "       [29.9999999 ],\n",
       "       [29.99999903],\n",
       "       [30.00000032],\n",
       "       [30.00000092],\n",
       "       [30.00000062],\n",
       "       [29.99999986],\n",
       "       [29.99999956],\n",
       "       [29.99999938],\n",
       "       [29.999999  ],\n",
       "       [29.99999949],\n",
       "       [30.00000001],\n",
       "       [29.99999974],\n",
       "       [29.99999976],\n",
       "       [30.0000005 ],\n",
       "       [29.99999954],\n",
       "       [29.99999982],\n",
       "       [30.0000008 ]])"
      ]
     },
     "execution_count": 55,
     "metadata": {},
     "output_type": "execute_result"
    }
   ],
   "source": [
    "perp2 = 2 ** -(dist2 * np.where(dist2 != 0, np.log2(dist2), 0)).sum(axis = 1).reshape(-1, 1)\n",
    "perp2"
   ]
  },
  {
   "cell_type": "code",
   "execution_count": 4,
   "metadata": {},
   "outputs": [],
   "source": [
    "@jit\n",
    "def dist_calc(X, perplexity = 30.0, tolerance = 1e-6, sigma_sq_init = 100, maxit = 250):\n",
    "    \n",
    "    \"\"\"Calculate pairwise affinities with approach that contrains perplexity values\"\"\"\n",
    "    \n",
    "    # Initialize output and sigma_sq boundaries\n",
    "    dist = np.zeros(shape = (X.shape[0], X.shape[0]))\n",
    "    \n",
    "    # Calculate pairwise affinities one row at a time\n",
    "    for i in range(dist.shape[0]):\n",
    "        sigma_sq = sigma_sq_init\n",
    "        sigma_sq_max = np.inf\n",
    "        sigma_sq_min = 0\n",
    "        perp = 0\n",
    "        attempts = 0\n",
    "       \n",
    "        # Only proceed to next row once perplexity condition is met or we have too many attempts\n",
    "        while np.abs(perp - perplexity) > tolerance and attempts < maxit:\n",
    "            \n",
    "            ######## Could use pairwise distance function in sklearn\n",
    "            # Calculate pairwise affinities\n",
    "            denom = 0\n",
    "            for j in range(dist.shape[0]):\n",
    "                if i != j:\n",
    "                    dist[i, j] = np.exp(-np.sum(np.square(X[i, :] - X[j, :])) / (2 * sigma_sq))\n",
    "            dist[i, :] = dist[i, :] / dist[i, :].sum()\n",
    "\n",
    "            # Check perplexity, and update sigma_sq accordingly\n",
    "            perp = 2 ** (- np.sum(dist[i, :] * np.where(dist[i, :] != 0, np.log2(dist[i, :]), 0)))\n",
    "            \n",
    "            # Print sigma_sq values for troubleshooting\n",
    "            #if (np.abs(perp - perplexity) <= tolerance):\n",
    "            #    print(sigma_sq, end = ', ')\n",
    "            \n",
    "            if perp < perplexity:\n",
    "                sigma_sq_min = sigma_sq\n",
    "                if sigma_sq_max == np.inf:\n",
    "                    sigma_sq *= 2\n",
    "                else:\n",
    "                    sigma_sq = (sigma_sq + sigma_sq_max) / 2\n",
    "            else:\n",
    "                sigma_sq_max = sigma_sq\n",
    "                sigma_sq *= 0.5\n",
    "            attempts += 1\n",
    "        \n",
    "    return dist"
   ]
  },
  {
   "cell_type": "code",
   "execution_count": 5,
   "metadata": {},
   "outputs": [
    {
     "data": {
      "image/png": "[encoded data removed]",
      "text/plain": [
       "<Figure size 432x288 with 1 Axes>"
      ]
     },
     "metadata": {},
     "output_type": "display_data"
    }
   ],
   "source": [
    "# Distances look reasonable -- some signal across diagonal and none on off-diagonal\n",
    "dist = dist_calc(X = X)\n",
    "plt.imshow(dist);"
   ]
  },
  {
   "cell_type": "code",
   "execution_count": 58,
   "metadata": {
    "collapsed": true
   },
   "outputs": [
    {
     "name": "stderr",
     "output_type": "stream",
     "text": [
      "/opt/conda/lib/python3.6/site-packages/ipykernel_launcher.py:2: RuntimeWarning: divide by zero encountered in log2\n",
      "  \n"
     ]
    },
    {
     "data": {
      "text/plain": [
       "array([[30.00000037],\n",
       "       [30.00000005],\n",
       "       [30.00000038],\n",
       "       [30.00000034],\n",
       "       [29.99999992],\n",
       "       [30.00000015],\n",
       "       [30.00000099],\n",
       "       [30.00000014],\n",
       "       [30.00000019],\n",
       "       [29.99999939],\n",
       "       [30.0000005 ],\n",
       "       [29.99999972],\n",
       "       [30.00000063],\n",
       "       [29.99999936],\n",
       "       [29.99999966],\n",
       "       [29.99999984],\n",
       "       [30.00000075],\n",
       "       [30.00000094],\n",
       "       [30.00000084],\n",
       "       [29.99999984],\n",
       "       [29.99999967],\n",
       "       [29.99999963],\n",
       "       [30.0000002 ],\n",
       "       [30.00000039],\n",
       "       [30.00000052],\n",
       "       [29.99999964],\n",
       "       [30.00000067],\n",
       "       [30.00000029],\n",
       "       [29.99999947],\n",
       "       [29.9999997 ],\n",
       "       [29.9999996 ],\n",
       "       [29.99999987],\n",
       "       [30.00000082],\n",
       "       [29.99999983],\n",
       "       [30.00000073],\n",
       "       [29.9999994 ],\n",
       "       [30.0000007 ],\n",
       "       [30.00000079],\n",
       "       [30.00000059],\n",
       "       [29.99999952],\n",
       "       [29.99999998],\n",
       "       [30.00000053],\n",
       "       [30.00000072],\n",
       "       [29.99999995],\n",
       "       [29.99999979],\n",
       "       [29.99999962],\n",
       "       [29.99999962],\n",
       "       [30.00000095],\n",
       "       [29.99999952],\n",
       "       [30.00000049],\n",
       "       [29.99999925],\n",
       "       [29.99999939],\n",
       "       [29.99999956],\n",
       "       [29.99999938],\n",
       "       [30.00000082],\n",
       "       [30.00000046],\n",
       "       [29.99999935],\n",
       "       [30.00000016],\n",
       "       [29.99999918],\n",
       "       [29.99999972],\n",
       "       [29.99999948],\n",
       "       [30.00000005],\n",
       "       [30.0000002 ],\n",
       "       [30.00000009],\n",
       "       [30.00000005],\n",
       "       [30.00000001],\n",
       "       [30.00000032],\n",
       "       [30.00000008],\n",
       "       [30.00000018],\n",
       "       [30.00000022],\n",
       "       [30.00000001],\n",
       "       [29.99999979],\n",
       "       [29.99999902],\n",
       "       [29.99999986],\n",
       "       [29.99999977],\n",
       "       [29.99999959],\n",
       "       [29.99999988],\n",
       "       [29.99999929],\n",
       "       [30.00000069],\n",
       "       [29.99999993],\n",
       "       [30.00000005],\n",
       "       [30.00000042],\n",
       "       [30.0000005 ],\n",
       "       [29.99999968],\n",
       "       [30.00000007],\n",
       "       [29.99999969],\n",
       "       [29.99999953],\n",
       "       [29.99999975],\n",
       "       [30.00000017],\n",
       "       [29.99999929],\n",
       "       [30.00000026],\n",
       "       [29.99999958],\n",
       "       [30.00000079],\n",
       "       [29.99999996],\n",
       "       [30.00000043],\n",
       "       [29.99999933],\n",
       "       [29.99999964],\n",
       "       [30.00000065],\n",
       "       [29.99999926],\n",
       "       [30.00000025],\n",
       "       [29.99999906],\n",
       "       [30.00000092],\n",
       "       [29.99999923],\n",
       "       [29.99999949],\n",
       "       [29.99999946],\n",
       "       [30.00000084],\n",
       "       [30.00000003],\n",
       "       [29.99999965],\n",
       "       [30.00000096],\n",
       "       [29.99999989],\n",
       "       [30.00000016],\n",
       "       [30.00000089],\n",
       "       [30.00000012],\n",
       "       [30.00000034],\n",
       "       [29.99999909],\n",
       "       [30.00000008],\n",
       "       [30.0000007 ],\n",
       "       [29.99999953],\n",
       "       [30.00000015],\n",
       "       [30.00000005],\n",
       "       [29.99999994],\n",
       "       [29.99999942],\n",
       "       [30.00000054],\n",
       "       [29.99999977],\n",
       "       [29.99999957],\n",
       "       [29.99999934],\n",
       "       [29.99999964],\n",
       "       [30.00000037],\n",
       "       [30.00000018],\n",
       "       [30.00000035],\n",
       "       [29.99999959],\n",
       "       [30.00000072],\n",
       "       [30.00000095],\n",
       "       [29.99999956],\n",
       "       [29.99999982],\n",
       "       [29.99999949],\n",
       "       [29.99999937],\n",
       "       [29.99999909],\n",
       "       [29.99999988],\n",
       "       [30.00000046],\n",
       "       [29.99999937],\n",
       "       [30.00000027],\n",
       "       [29.99999975],\n",
       "       [30.00000031],\n",
       "       [30.00000045],\n",
       "       [30.00000086],\n",
       "       [29.99999941],\n",
       "       [30.0000004 ],\n",
       "       [30.00000095],\n",
       "       [30.00000038],\n",
       "       [30.00000031],\n",
       "       [29.99999936],\n",
       "       [29.99999866],\n",
       "       [29.99999982],\n",
       "       [29.99999908],\n",
       "       [29.9999996 ],\n",
       "       [30.0000001 ],\n",
       "       [30.00000051],\n",
       "       [30.00000067],\n",
       "       [29.99999928],\n",
       "       [30.00000004],\n",
       "       [29.99999981],\n",
       "       [29.99999913],\n",
       "       [30.0000006 ],\n",
       "       [29.99999935],\n",
       "       [29.99999986],\n",
       "       [30.00000031],\n",
       "       [29.99999954],\n",
       "       [29.99999937],\n",
       "       [29.99999956],\n",
       "       [30.00000077],\n",
       "       [29.99999948],\n",
       "       [29.99999974],\n",
       "       [30.00000085],\n",
       "       [30.        ],\n",
       "       [30.00000017],\n",
       "       [29.99999985],\n",
       "       [29.99999926],\n",
       "       [30.00000027],\n",
       "       [30.0000004 ],\n",
       "       [29.99999995],\n",
       "       [30.0000001 ],\n",
       "       [29.99999929],\n",
       "       [30.00000031],\n",
       "       [30.00000014],\n",
       "       [30.00000005],\n",
       "       [30.00000085],\n",
       "       [29.99999999],\n",
       "       [30.00000011],\n",
       "       [29.99999939],\n",
       "       [30.00000013],\n",
       "       [30.00000006],\n",
       "       [30.00000085],\n",
       "       [30.0000002 ],\n",
       "       [30.00000099],\n",
       "       [30.00000023],\n",
       "       [30.00000069],\n",
       "       [30.00000083],\n",
       "       [29.99999966],\n",
       "       [29.99999971],\n",
       "       [29.99999989],\n",
       "       [29.99999967],\n",
       "       [29.99999991],\n",
       "       [29.99999959],\n",
       "       [29.99999948],\n",
       "       [29.99999993],\n",
       "       [29.99999977],\n",
       "       [30.00000027],\n",
       "       [30.00000038],\n",
       "       [29.99999979],\n",
       "       [29.99999992],\n",
       "       [29.99999982],\n",
       "       [30.00000009],\n",
       "       [30.00000085],\n",
       "       [29.99999908],\n",
       "       [30.0000006 ],\n",
       "       [29.99999921],\n",
       "       [30.00000078],\n",
       "       [30.00000043],\n",
       "       [29.99999974],\n",
       "       [29.99999984],\n",
       "       [29.99999992],\n",
       "       [29.99999994],\n",
       "       [29.99999919],\n",
       "       [29.9999996 ],\n",
       "       [29.99999986],\n",
       "       [29.99999967],\n",
       "       [29.99999955],\n",
       "       [30.00000045],\n",
       "       [30.00000014],\n",
       "       [29.99999926],\n",
       "       [30.0000001 ],\n",
       "       [29.99999908],\n",
       "       [29.99999972],\n",
       "       [30.00000079],\n",
       "       [29.99999948],\n",
       "       [30.00000085],\n",
       "       [29.99999976],\n",
       "       [30.00000024],\n",
       "       [29.99999918],\n",
       "       [29.99999915],\n",
       "       [29.99999988],\n",
       "       [29.99999939],\n",
       "       [29.99999965],\n",
       "       [29.9999999 ],\n",
       "       [29.99999957],\n",
       "       [29.99999912],\n",
       "       [29.99999946],\n",
       "       [30.00000039],\n",
       "       [29.99999918],\n",
       "       [29.99999955],\n",
       "       [30.00000041],\n",
       "       [30.00000064],\n",
       "       [30.00000069],\n",
       "       [29.99999996],\n",
       "       [29.99999911],\n",
       "       [30.00000064],\n",
       "       [30.00000069],\n",
       "       [30.00000086],\n",
       "       [29.99999959],\n",
       "       [29.99999928],\n",
       "       [29.99999948],\n",
       "       [29.99999965],\n",
       "       [30.000001  ],\n",
       "       [29.99999974],\n",
       "       [29.99999995],\n",
       "       [29.99999998],\n",
       "       [29.99999617],\n",
       "       [30.00000043],\n",
       "       [30.00000067],\n",
       "       [30.00000063],\n",
       "       [29.99999989],\n",
       "       [29.99999933],\n",
       "       [29.99999974],\n",
       "       [30.00000012],\n",
       "       [30.00000025],\n",
       "       [30.00000028],\n",
       "       [30.00000004],\n",
       "       [29.99999986],\n",
       "       [30.00000072],\n",
       "       [29.99999979],\n",
       "       [30.0000007 ],\n",
       "       [30.0000006 ],\n",
       "       [30.00000045],\n",
       "       [29.99999993],\n",
       "       [30.00000038],\n",
       "       [29.99999924],\n",
       "       [30.00000013],\n",
       "       [30.0000004 ],\n",
       "       [29.99999987],\n",
       "       [29.99999992],\n",
       "       [29.99999917],\n",
       "       [29.99999981],\n",
       "       [30.00000042],\n",
       "       [29.99999996],\n",
       "       [29.99999991],\n",
       "       [30.00000008],\n",
       "       [30.00000035],\n",
       "       [30.00000026],\n",
       "       [29.99999957],\n",
       "       [30.00000001],\n",
       "       [29.99999966],\n",
       "       [30.00000081],\n",
       "       [30.00000094],\n",
       "       [30.00000004],\n",
       "       [30.00000019],\n",
       "       [29.99999946],\n",
       "       [30.00000001],\n",
       "       [30.00000076],\n",
       "       [30.00000093],\n",
       "       [29.99999987],\n",
       "       [29.99999909],\n",
       "       [29.99999982],\n",
       "       [29.99999946],\n",
       "       [29.99999914],\n",
       "       [29.99999969],\n",
       "       [29.99999976],\n",
       "       [29.99999995],\n",
       "       [30.00000014],\n",
       "       [29.99999989],\n",
       "       [30.00000071],\n",
       "       [30.00000028],\n",
       "       [29.99999939],\n",
       "       [29.99999911],\n",
       "       [30.00000003],\n",
       "       [30.00000025],\n",
       "       [30.00000035],\n",
       "       [29.99999997],\n",
       "       [30.0000007 ],\n",
       "       [30.00000003],\n",
       "       [30.00000003],\n",
       "       [30.0000002 ],\n",
       "       [29.99999938],\n",
       "       [30.00000069],\n",
       "       [29.99999991],\n",
       "       [29.99999905],\n",
       "       [29.99999997],\n",
       "       [30.00000046],\n",
       "       [30.00000005],\n",
       "       [30.00000068],\n",
       "       [30.00000023],\n",
       "       [30.0000005 ],\n",
       "       [30.00000015],\n",
       "       [29.99999903],\n",
       "       [29.99999999],\n",
       "       [29.99999977],\n",
       "       [30.00000072],\n",
       "       [29.99999924],\n",
       "       [29.99999956],\n",
       "       [30.00000023],\n",
       "       [30.00000066],\n",
       "       [30.00000048],\n",
       "       [29.99999965],\n",
       "       [29.99999981],\n",
       "       [29.99999905],\n",
       "       [29.9999991 ],\n",
       "       [29.99999906],\n",
       "       [29.99999942],\n",
       "       [30.0000004 ],\n",
       "       [30.0000006 ],\n",
       "       [29.99999975],\n",
       "       [30.00000023],\n",
       "       [30.00000051],\n",
       "       [29.99999923],\n",
       "       [30.00000048],\n",
       "       [27.96648812],\n",
       "       [29.99999973],\n",
       "       [30.00000038],\n",
       "       [30.00000057],\n",
       "       [29.99999991],\n",
       "       [29.99999971],\n",
       "       [30.00000035],\n",
       "       [30.00000026],\n",
       "       [30.00000006],\n",
       "       [29.99999906],\n",
       "       [30.00000035],\n",
       "       [30.00000005],\n",
       "       [30.        ],\n",
       "       [30.00000003],\n",
       "       [30.00000064],\n",
       "       [29.99999946],\n",
       "       [29.99999948],\n",
       "       [30.00000008],\n",
       "       [30.00000049],\n",
       "       [30.00000069],\n",
       "       [30.00000082],\n",
       "       [30.00000019],\n",
       "       [29.99999975],\n",
       "       [29.99999949],\n",
       "       [29.9999994 ],\n",
       "       [29.99999988],\n",
       "       [29.99999975],\n",
       "       [29.99999959],\n",
       "       [30.00000074],\n",
       "       [30.0000001 ],\n",
       "       [30.00000071],\n",
       "       [29.99999904],\n",
       "       [30.00000087],\n",
       "       [29.99999989],\n",
       "       [30.00000068],\n",
       "       [30.00000023],\n",
       "       [30.00000049],\n",
       "       [29.99999966],\n",
       "       [30.00000072],\n",
       "       [29.9999997 ],\n",
       "       [29.99999939],\n",
       "       [30.00000021],\n",
       "       [29.99999955],\n",
       "       [30.00000092],\n",
       "       [30.00000054],\n",
       "       [30.00000033],\n",
       "       [29.9999991 ],\n",
       "       [29.99999965],\n",
       "       [30.00000007],\n",
       "       [30.00000026],\n",
       "       [30.0000001 ],\n",
       "       [30.00000049],\n",
       "       [29.99999997],\n",
       "       [29.99999978],\n",
       "       [30.00000031],\n",
       "       [30.00000037],\n",
       "       [30.00000033],\n",
       "       [30.00000052],\n",
       "       [29.99999937],\n",
       "       [29.99999988],\n",
       "       [30.00000044],\n",
       "       [30.00000015],\n",
       "       [30.00000011],\n",
       "       [29.99999955],\n",
       "       [29.99999934],\n",
       "       [29.99999988],\n",
       "       [30.00000093],\n",
       "       [29.99999926],\n",
       "       [29.9999998 ],\n",
       "       [29.99999948],\n",
       "       [30.00000075],\n",
       "       [30.00000017],\n",
       "       [30.0000008 ],\n",
       "       [29.99999947],\n",
       "       [29.9999995 ],\n",
       "       [29.99999939],\n",
       "       [29.99997334],\n",
       "       [30.00000067],\n",
       "       [30.00000027],\n",
       "       [29.9999999 ],\n",
       "       [30.00000089],\n",
       "       [29.99999984],\n",
       "       [29.99999919],\n",
       "       [29.99999886],\n",
       "       [29.99999927],\n",
       "       [30.00000079],\n",
       "       [30.00000041],\n",
       "       [30.00000007],\n",
       "       [29.99999928],\n",
       "       [30.00000007],\n",
       "       [30.00000044],\n",
       "       [29.99999981],\n",
       "       [30.00000084],\n",
       "       [29.99999928],\n",
       "       [30.00000066],\n",
       "       [30.00000071],\n",
       "       [29.99999918],\n",
       "       [30.00000043],\n",
       "       [30.0000003 ],\n",
       "       [30.00000058],\n",
       "       [29.99999956],\n",
       "       [29.99999941],\n",
       "       [29.99999951],\n",
       "       [29.99999978],\n",
       "       [30.00000075],\n",
       "       [30.00000009],\n",
       "       [30.        ],\n",
       "       [29.99999928],\n",
       "       [29.99999953],\n",
       "       [29.99999907],\n",
       "       [30.00000032],\n",
       "       [30.00000091],\n",
       "       [29.99999903],\n",
       "       [30.00000014],\n",
       "       [30.00000098],\n",
       "       [30.00000064],\n",
       "       [29.99999946],\n",
       "       [30.0000002 ],\n",
       "       [29.9999999 ],\n",
       "       [29.99999903],\n",
       "       [30.00000032],\n",
       "       [30.00000092],\n",
       "       [30.00000062],\n",
       "       [29.99999986],\n",
       "       [29.99999956],\n",
       "       [29.99999938],\n",
       "       [29.999999  ],\n",
       "       [29.99999949],\n",
       "       [30.00000001],\n",
       "       [29.99999974],\n",
       "       [29.99999976],\n",
       "       [30.0000005 ],\n",
       "       [29.99999954],\n",
       "       [29.99999982],\n",
       "       [30.0000008 ]])"
      ]
     },
     "execution_count": 58,
     "metadata": {},
     "output_type": "execute_result"
    }
   ],
   "source": [
    "# Verify perplexities\n",
    "perp = 2 ** -(dist * np.where(dist != 0, np.log2(dist), 0)).sum(axis = 1).reshape(-1, 1)\n",
    "perp"
   ]
  },
  {
   "cell_type": "markdown",
   "metadata": {},
   "source": [
    "Compute joint probabilities, $p_{ij}$"
   ]
  },
  {
   "cell_type": "code",
   "execution_count": 6,
   "metadata": {},
   "outputs": [
    {
     "data": {
      "image/png": "[encoded data removed]",
      "text/plain": [
       "<Figure size 432x288 with 1 Axes>"
      ]
     },
     "metadata": {},
     "output_type": "display_data"
    }
   ],
   "source": [
    "N = dist.shape[0]\n",
    "pij = (dist + dist.T) / (2 * N)\n",
    "plt.imshow(pij);"
   ]
  },
  {
   "cell_type": "code",
   "execution_count": 7,
   "metadata": {},
   "outputs": [
    {
     "data": {
      "text/plain": [
       "1.0"
      ]
     },
     "execution_count": 7,
     "metadata": {},
     "output_type": "execute_result"
    }
   ],
   "source": [
    "# Verify that p_ij matrix sums to 1\n",
    "pij.sum()"
   ]
  },
  {
   "cell_type": "markdown",
   "metadata": {},
   "source": [
    "Calculate $q_{ij}$"
   ]
  },
  {
   "cell_type": "code",
   "execution_count": 8,
   "metadata": {},
   "outputs": [],
   "source": [
    "@jit\n",
    "def calc_qij(pij, y):\n",
    "    \n",
    "    \"\"\"Calculate qij matrix\"\"\"\n",
    "    \n",
    "    # Initialize qij array and denominator\n",
    "    q_ij = np.zeros(shape = pij.shape)\n",
    "    denom = 0\n",
    "    \n",
    "    # Calculate q_ij, which is a symmetric matrix\n",
    "    for i in range(q_ij.shape[0]):\n",
    "        for j in range(q_ij.shape[0]):\n",
    "            if i != j:\n",
    "                q_ij[i, j] = (1 + np.sum(np.square(y[i, :] - y[j, :]))) ** (-1)\n",
    "    denom = q_ij.sum()\n",
    "    q_ij = q_ij / denom\n",
    "    \n",
    "    # Return qij\n",
    "    return q_ij"
   ]
  },
  {
   "cell_type": "code",
   "execution_count": 9,
   "metadata": {},
   "outputs": [
    {
     "data": {
      "image/png": "[encoded data removed]",
      "text/plain": [
       "<Figure size 432x288 with 1 Axes>"
      ]
     },
     "metadata": {},
     "output_type": "display_data"
    }
   ],
   "source": [
    "qij = calc_qij(pij = pij, y = y)\n",
    "plt.imshow(qij);"
   ]
  },
  {
   "cell_type": "code",
   "execution_count": 63,
   "metadata": {},
   "outputs": [
    {
     "data": {
      "text/plain": [
       "0.9999999999999812"
      ]
     },
     "execution_count": 63,
     "metadata": {},
     "output_type": "execute_result"
    }
   ],
   "source": [
    "# Verify that qij sums to approximately 1\n",
    "qij.sum()"
   ]
  },
  {
   "cell_type": "markdown",
   "metadata": {},
   "source": [
    "Save arrays of interest"
   ]
  },
  {
   "cell_type": "code",
   "execution_count": 12,
   "metadata": {},
   "outputs": [],
   "source": [
    "#np.save('pij_RK', pij)\n",
    "#np.save('qij_RK', qij)"
   ]
  },
  {
   "cell_type": "code",
   "execution_count": 9,
   "metadata": {},
   "outputs": [
    {
     "data": {
      "text/plain": [
       "array([[1.00000000e-12, 3.41696760e-08, 4.90078521e-07, ...,\n",
       "        1.00000000e-12, 1.00000000e-12, 1.00000000e-12],\n",
       "       [3.41696760e-08, 1.00000000e-12, 1.72588718e-07, ...,\n",
       "        1.00000000e-12, 1.00000000e-12, 1.00000000e-12],\n",
       "       [4.90078521e-07, 1.72588718e-07, 1.00000000e-12, ...,\n",
       "        1.00000000e-12, 1.00000000e-12, 1.00000000e-12],\n",
       "       ...,\n",
       "       [1.00000000e-12, 1.00000000e-12, 1.00000000e-12, ...,\n",
       "        1.00000000e-12, 1.14976476e-11, 1.19842414e-08],\n",
       "       [1.00000000e-12, 1.00000000e-12, 1.00000000e-12, ...,\n",
       "        1.14976476e-11, 1.00000000e-12, 2.19846957e-06],\n",
       "       [1.00000000e-12, 1.00000000e-12, 1.00000000e-12, ...,\n",
       "        1.19842414e-08, 2.19846957e-06, 1.00000000e-12]])"
      ]
     },
     "execution_count": 9,
     "metadata": {},
     "output_type": "execute_result"
    }
   ],
   "source": [
    "p_RK2 = np.maximum(p_RK, 1e-12)\n",
    "p_RK2"
   ]
  },
  {
   "cell_type": "code",
   "execution_count": 12,
   "metadata": {},
   "outputs": [
    {
     "data": {
      "text/plain": [
       "array([[1.00000000e-12, 5.90242328e-06, 5.35988416e-06, ...,\n",
       "        3.40456861e-07, 2.92883368e-07, 3.54567043e-07],\n",
       "       [5.90242328e-06, 1.00000000e-12, 1.21000695e-05, ...,\n",
       "        4.48189581e-07, 3.94699975e-07, 4.96584180e-07],\n",
       "       [5.35988416e-06, 1.21000695e-05, 1.00000000e-12, ...,\n",
       "        4.73691107e-07, 4.14566320e-07, 5.24210347e-07],\n",
       "       ...,\n",
       "       [3.40456861e-07, 4.48189581e-07, 4.73691107e-07, ...,\n",
       "        1.00000000e-12, 4.72247909e-06, 4.36944279e-06],\n",
       "       [2.92883368e-07, 3.94699975e-07, 4.14566320e-07, ...,\n",
       "        4.72247909e-06, 1.00000000e-12, 8.73688018e-06],\n",
       "       [3.54567043e-07, 4.96584180e-07, 5.24210347e-07, ...,\n",
       "        4.36944279e-06, 8.73688018e-06, 1.00000000e-12]])"
      ]
     },
     "execution_count": 12,
     "metadata": {},
     "output_type": "execute_result"
    }
   ],
   "source": [
    "q_RK2 = np.maximum(q_RK, 1e-12)\n",
    "q_RK2"
   ]
  },
  {
   "cell_type": "code",
   "execution_count": 11,
   "metadata": {},
   "outputs": [
    {
     "data": {
      "image/png": "[encoded data removed]",
      "text/plain": [
       "<Figure size 432x288 with 1 Axes>"
      ]
     },
     "metadata": {},
     "output_type": "display_data"
    }
   ],
   "source": [
    "plt.imshow(p_RK2);"
   ]
  },
  {
   "cell_type": "code",
   "execution_count": 3,
   "metadata": {},
   "outputs": [
    {
     "data": {
      "text/plain": [
       "array([[0.00000000e+000, 3.41696760e-008, 4.90078521e-007, ...,\n",
       "        1.43743453e-116, 1.63072812e-122, 1.72369087e-155],\n",
       "       [3.41696760e-008, 0.00000000e+000, 1.72588718e-007, ...,\n",
       "        1.98676609e-123, 1.17738511e-122, 4.52098583e-125],\n",
       "       [4.90078521e-007, 1.72588718e-007, 0.00000000e+000, ...,\n",
       "        4.53597241e-116, 2.17914752e-095, 3.07697465e-099],\n",
       "       ...,\n",
       "       [1.43743453e-116, 1.98676609e-123, 4.53597241e-116, ...,\n",
       "        0.00000000e+000, 1.14976476e-011, 1.19842414e-008],\n",
       "       [1.63072812e-122, 1.17738511e-122, 2.17914752e-095, ...,\n",
       "        1.14976476e-011, 0.00000000e+000, 2.19846957e-006],\n",
       "       [1.72369087e-155, 4.52098583e-125, 3.07697465e-099, ...,\n",
       "        1.19842414e-008, 2.19846957e-006, 0.00000000e+000]])"
      ]
     },
     "execution_count": 3,
     "metadata": {},
     "output_type": "execute_result"
    }
   ],
   "source": [
    "p_RK"
   ]
  },
  {
   "cell_type": "markdown",
   "metadata": {},
   "source": [
    "Calculate gradient"
   ]
  },
  {
   "cell_type": "code",
   "execution_count": 11,
   "metadata": {},
   "outputs": [],
   "source": [
    "@jit\n",
    "def calc_grad(iter_num, pij, qij, y, comp_threshold = 50):\n",
    "    \n",
    "    \"\"\"Calculate gradient\"\"\"\n",
    "    \n",
    "    # Create compression at early iteration values\n",
    "    if iter_num <= comp_threshold:\n",
    "        comp = 4\n",
    "    else:\n",
    "        comp = 1\n",
    "    \n",
    "    # Initialize grad array\n",
    "    grad = np.zeros(shape = y.shape)\n",
    "    \n",
    "    # Compute gradient\n",
    "    for i in range(grad.shape[0]):\n",
    "        grad[i] = 0\n",
    "        for j in range(grad.shape[0]):\n",
    "            grad[i] += 4 * (comp * pij[i, j] - qij[i, j]) * (y[i, :] - y[j, :]) * \\\n",
    "                (1 + np.sum(np.square(y[i, :] - y[j, :]))) ** (-1)\n",
    "           # grad[i] += (comp * pij[j, i] - qij[j, i]) * (y[i, :] - y[j, :]) * \\\n",
    "           #     (1 + np.sum(np.square(y[j, :] - y[i, :]))) ** (-1)\n",
    "    \n",
    "    # Return gradient\n",
    "    return grad"
   ]
  },
  {
   "cell_type": "code",
   "execution_count": 70,
   "metadata": {},
   "outputs": [],
   "source": [
    "P = np.array([[1,2,3],\n",
    "             [4,5,6],\n",
    "             [7,8,9]])\n",
    "Q = np.array([[9,7,8],\n",
    "             [3,1,2],\n",
    "             [6,5,4]])\n",
    "Y = np.array([[-0.5, 0.25],\n",
    "             [-1, 2],\n",
    "             [3, -6]])"
   ]
  },
  {
   "cell_type": "code",
   "execution_count": 81,
   "metadata": {},
   "outputs": [
    {
     "data": {
      "text/plain": [
       "array([[ 0.04903641, -0.28632279],\n",
       "       [ 0.431562  , -1.73268921],\n",
       "       [-0.13699721,  0.20230984]])"
      ]
     },
     "execution_count": 81,
     "metadata": {},
     "output_type": "execute_result"
    }
   ],
   "source": [
    "calc_grad(iter_num = 100, pij = P, qij = Q, y = Y)"
   ]
  },
  {
   "cell_type": "code",
   "execution_count": 65,
   "metadata": {},
   "outputs": [
    {
     "ename": "NameError",
     "evalue": "name 'p_RK' is not defined",
     "output_type": "error",
     "traceback": [
      "\u001b[0;31m\u001b[0m",
      "\u001b[0;31mNameError\u001b[0mTraceback (most recent call last)",
      "\u001b[0;32m<ipython-input-65-384f947b7594>\u001b[0m in \u001b[0;36m<module>\u001b[0;34m()\u001b[0m\n\u001b[0;32m----> 1\u001b[0;31m \u001b[0mgrad\u001b[0m \u001b[0;34m=\u001b[0m \u001b[0mcalc_grad\u001b[0m\u001b[0;34m(\u001b[0m\u001b[0miter_num\u001b[0m \u001b[0;34m=\u001b[0m \u001b[0;36m100\u001b[0m\u001b[0;34m,\u001b[0m \u001b[0mpij\u001b[0m \u001b[0;34m=\u001b[0m \u001b[0mp_RK\u001b[0m\u001b[0;34m,\u001b[0m \u001b[0mqij\u001b[0m \u001b[0;34m=\u001b[0m \u001b[0mq_RK\u001b[0m\u001b[0;34m,\u001b[0m \u001b[0my\u001b[0m \u001b[0;34m=\u001b[0m \u001b[0my\u001b[0m\u001b[0;34m)\u001b[0m\u001b[0;34m\u001b[0m\u001b[0;34m\u001b[0m\u001b[0m\n\u001b[0m",
      "\u001b[0;31mNameError\u001b[0m: name 'p_RK' is not defined"
     ]
    }
   ],
   "source": [
    "grad = calc_grad(iter_num = 100, pij = p_RK, qij = q_RK, y = y)"
   ]
  },
  {
   "cell_type": "code",
   "execution_count": 72,
   "metadata": {},
   "outputs": [],
   "source": [
    "grad = calc_grad(iter_num = 1, pij = pij, qij = qij, y = y)"
   ]
  },
  {
   "cell_type": "code",
   "execution_count": 19,
   "metadata": {},
   "outputs": [],
   "source": [
    "grad2 = calc_grad(iter_num = 1, pij = p_RK2, qij = q_RK2, y = y)"
   ]
  },
  {
   "cell_type": "code",
   "execution_count": 73,
   "metadata": {},
   "outputs": [
    {
     "data": {
      "image/png": "[encoded data removed]",
      "text/plain": [
       "<Figure size 432x288 with 1 Axes>"
      ]
     },
     "metadata": {},
     "output_type": "display_data"
    }
   ],
   "source": [
    "# Display grad\n",
    "plt.scatter(x = grad[:, 0], y = grad[:, 1]);"
   ]
  },
  {
   "cell_type": "code",
   "execution_count": 20,
   "metadata": {},
   "outputs": [
    {
     "data": {
      "image/png": "[encoded data removed]",
      "text/plain": [
       "<Figure size 432x288 with 1 Axes>"
      ]
     },
     "metadata": {},
     "output_type": "display_data"
    }
   ],
   "source": [
    "plt.scatter(x = grad2[:, 0], y = grad2[:, 1]);"
   ]
  },
  {
   "cell_type": "code",
   "execution_count": 31,
   "metadata": {},
   "outputs": [],
   "source": [
    "def tsne(pij, T = 1000, alpha_init = 0.5, alpha_final = 0.8, eta = 500, numcols = 2):\n",
    "    \n",
    "    \"\"\"Perform iterative portion of t-SNE algorithm\"\"\"\n",
    "    # Initialize output, including values of first two iterations\n",
    "    y_lowd = np.zeros(shape = (T + 2, pij.shape[0], numcols))\n",
    "    #y_lowd_m1 = np.random.multivariate_normal(mean = np.zeros(numcols), cov = 10 ** -4 * np.eye(numcols), \\\n",
    "    #                                          size = pij.shape[0])\n",
    "    #y_lowd_m2 = np.random.multivariate_normal(mean = np.zeros(numcols), cov = 10 ** -4 * np.eye(numcols), \\\n",
    "    #                                          size = pij.shape[0])\n",
    "    y_lowd_m1 = np.random.multivariate_normal(mean = np.zeros(numcols), cov = np.eye(numcols), \\\n",
    "                                              size = pij.shape[0])\n",
    "    y_lowd_m2 = np.random.multivariate_normal(mean = np.zeros(numcols), cov = np.eye(numcols), \\\n",
    "                                              size = pij.shape[0])\n",
    "    y_lowd[0, :, :] = y_lowd_m2\n",
    "    y_lowd[1, :, :] = y_lowd_m1\n",
    "#    Y = y_lowd_m1\n",
    "#    iY = y_lowd_m1 - y_lowd_m2\n",
    "    \n",
    "    for i in range(2, T + 2):\n",
    "        \n",
    "        # Print iteration number\n",
    "        if i % 10 == 0:\n",
    "            print(\"Iteration: \" + str(i), end = \", \")\n",
    "            \n",
    "        # Set alpha based on iteration number\n",
    "        if i <= 20:\n",
    "            alpha = alpha_init\n",
    "        else:\n",
    "            alpha = alpha_final\n",
    "        \n",
    "        # Compute qij\n",
    "        qij = calc_qij(pij = pij, y = y_lowd_m1)\n",
    "        #qij = calc_qij(pij = pij, y = Y)\n",
    "        \n",
    "        # Compute gradient\n",
    "        grad = calc_grad(iter_num = i, pij = pij, qij = qij, y = y_lowd_m1, comp_threshold = 100)\n",
    "        #grad = calc_grad(iter_num = i, pij = pij, qij = qij, y = Y, comp_threshold = 100)\n",
    "        \n",
    "        ##### Update low-dimensional data\n",
    "        #iY = - eta * grad + alpha * iY\n",
    "        #Y += iY\n",
    "        y_lowd_new = y_lowd_m1 - eta * grad + alpha * (y_lowd_m1 - y_lowd_m2)\n",
    "        y_lowd_m2, y_lowd_m1 = y_lowd_m1, y_lowd_new\n",
    "        y_lowd[i, :, :] = y_lowd_new\n",
    "        #y_lowd[i, :, :] = Y\n",
    "    \n",
    "    # Return y_lowd\n",
    "    return y_lowd"
   ]
  },
  {
   "cell_type": "code",
   "execution_count": 32,
   "metadata": {},
   "outputs": [
    {
     "name": "stdout",
     "output_type": "stream",
     "text": [
      "Iteration: 10, Iteration: 20, Iteration: 30, Iteration: 40, Iteration: 50, Iteration: 60, Iteration: 70, Iteration: 80, Iteration: 90, Iteration: 100, Iteration: 110, Iteration: 120, Iteration: 130, Iteration: 140, Iteration: 150, Iteration: 160, Iteration: 170, Iteration: 180, Iteration: 190, Iteration: 200, Iteration: 210, Iteration: 220, Iteration: 230, Iteration: 240, Iteration: 250, Iteration: 260, Iteration: 270, Iteration: 280, Iteration: 290, Iteration: 300, Iteration: 310, Iteration: 320, Iteration: 330, Iteration: 340, Iteration: 350, Iteration: 360, Iteration: 370, Iteration: 380, Iteration: 390, Iteration: 400, Iteration: 410, Iteration: 420, Iteration: 430, Iteration: 440, Iteration: 450, Iteration: 460, Iteration: 470, Iteration: 480, Iteration: 490, Iteration: 500, Iteration: 510, Iteration: 520, Iteration: 530, Iteration: 540, Iteration: 550, Iteration: 560, Iteration: 570, Iteration: 580, Iteration: 590, Iteration: 600, Iteration: 610, Iteration: 620, Iteration: 630, Iteration: 640, Iteration: 650, Iteration: 660, Iteration: 670, Iteration: 680, Iteration: 690, Iteration: 700, Iteration: 710, Iteration: 720, Iteration: 730, Iteration: 740, Iteration: 750, Iteration: 760, Iteration: 770, Iteration: 780, Iteration: 790, Iteration: 800, Iteration: 810, Iteration: 820, Iteration: 830, Iteration: 840, Iteration: 850, Iteration: 860, Iteration: 870, Iteration: 880, Iteration: 890, Iteration: 900, Iteration: 910, Iteration: 920, Iteration: 930, Iteration: 940, Iteration: 950, Iteration: 960, Iteration: 970, Iteration: 980, Iteration: 990, Iteration: 1000, "
     ]
    }
   ],
   "source": [
    "test = tsne(pij = pij)"
   ]
  },
  {
   "cell_type": "code",
   "execution_count": 33,
   "metadata": {},
   "outputs": [
    {
     "data": {
      "image/png": "[encoded data removed]",
      "text/plain": [
       "<Figure size 432x288 with 1 Axes>"
      ]
     },
     "metadata": {},
     "output_type": "display_data"
    }
   ],
   "source": [
    "plt.scatter(x = test[-1, :, 0], y = test[-1, :, 1]);"
   ]
  },
  {
   "cell_type": "code",
   "execution_count": 28,
   "metadata": {},
   "outputs": [
    {
     "data": {
      "image/png": "[encoded data removed]",
      "text/plain": [
       "<Figure size 432x288 with 1 Axes>"
      ]
     },
     "metadata": {},
     "output_type": "display_data"
    }
   ],
   "source": [
    "plt.scatter(x = test[-1, :, 0], y = test[-1, :, 1]);"
   ]
  },
  {
   "cell_type": "markdown",
   "metadata": {},
   "source": [
    "Try to troubleshoot gradient against example code"
   ]
  },
  {
   "cell_type": "code",
   "execution_count": 8,
   "metadata": {},
   "outputs": [
    {
     "name": "stdout",
     "output_type": "stream",
     "text": [
      "[[1 2 3]\n",
      " [4 5 6]\n",
      " [7 8 9]]\n",
      "[[9 7 8]\n",
      " [3 1 2]\n",
      " [6 5 4]]\n",
      "[[-0.5   0.25]\n",
      " [-1.    2.  ]\n",
      " [ 3.   -6.  ]]\n"
     ]
    }
   ],
   "source": [
    "print(P)\n",
    "print(Q)\n",
    "print(Y)"
   ]
  },
  {
   "cell_type": "code",
   "execution_count": 32,
   "metadata": {},
   "outputs": [
    {
     "data": {
      "text/plain": [
       "array([[-8, -5, -5],\n",
       "       [ 1,  4,  4],\n",
       "       [ 1,  3,  5]])"
      ]
     },
     "execution_count": 32,
     "metadata": {},
     "output_type": "execute_result"
    }
   ],
   "source": [
    "PQ = P - Q\n",
    "PQ"
   ]
  },
  {
   "cell_type": "code",
   "execution_count": 33,
   "metadata": {},
   "outputs": [
    {
     "data": {
      "text/plain": [
       "array([[ 0.25  ,  0.0625],\n",
       "       [ 1.    ,  4.    ],\n",
       "       [ 9.    , 36.    ]])"
      ]
     },
     "execution_count": 33,
     "metadata": {},
     "output_type": "execute_result"
    }
   ],
   "source": [
    "np.square(Y)"
   ]
  },
  {
   "cell_type": "code",
   "execution_count": 34,
   "metadata": {},
   "outputs": [
    {
     "data": {
      "text/plain": [
       "array([ 0.3125,  5.    , 45.    ])"
      ]
     },
     "execution_count": 34,
     "metadata": {},
     "output_type": "execute_result"
    }
   ],
   "source": [
    "# Square element of Y, get row sum\n",
    "sum_Y = np.sum(np.square(Y), 1)\n",
    "sum_Y"
   ]
  },
  {
   "cell_type": "code",
   "execution_count": 35,
   "metadata": {},
   "outputs": [
    {
     "data": {
      "text/plain": [
       "array([[  0.3125,   1.    ,  -3.    ],\n",
       "       [  1.    ,   5.    , -15.    ],\n",
       "       [ -3.    , -15.    ,  45.    ]])"
      ]
     },
     "execution_count": 35,
     "metadata": {},
     "output_type": "execute_result"
    }
   ],
   "source": [
    "np.dot(Y, Y.T)"
   ]
  },
  {
   "cell_type": "code",
   "execution_count": 36,
   "metadata": {},
   "outputs": [
    {
     "data": {
      "text/plain": [
       "array([[ -0.625,  -2.   ,   6.   ],\n",
       "       [ -2.   , -10.   ,  30.   ],\n",
       "       [  6.   ,  30.   , -90.   ]])"
      ]
     },
     "execution_count": 36,
     "metadata": {},
     "output_type": "execute_result"
    }
   ],
   "source": [
    "num = -2 * np.dot(Y, Y.T)\n",
    "num"
   ]
  },
  {
   "cell_type": "code",
   "execution_count": 37,
   "metadata": {},
   "outputs": [
    {
     "data": {
      "text/plain": [
       "array([[  1.   ,   9.   ,  97.   ],\n",
       "       [ -0.375,   1.   , 121.   ],\n",
       "       [  7.625,  41.   ,   1.   ]])"
      ]
     },
     "execution_count": 37,
     "metadata": {},
     "output_type": "execute_result"
    }
   ],
   "source": [
    "1 + np.add(np.add(num, sum_Y), sum_Y)"
   ]
  },
  {
   "cell_type": "code",
   "execution_count": 38,
   "metadata": {},
   "outputs": [
    {
     "data": {
      "text/plain": [
       "array([[ 1.        ,  0.11111111,  0.01030928],\n",
       "       [-2.66666667,  1.        ,  0.00826446],\n",
       "       [ 0.13114754,  0.02439024,  1.        ]])"
      ]
     },
     "execution_count": 38,
     "metadata": {},
     "output_type": "execute_result"
    }
   ],
   "source": [
    "num = 1 / (1 + np.add(np.add(num, sum_Y), sum_Y))\n",
    "num"
   ]
  },
  {
   "cell_type": "code",
   "execution_count": 39,
   "metadata": {},
   "outputs": [],
   "source": [
    "num[range(3), range(3)] = 0"
   ]
  },
  {
   "cell_type": "code",
   "execution_count": 40,
   "metadata": {},
   "outputs": [
    {
     "data": {
      "text/plain": [
       "array([[-0.        , -0.        ],\n",
       "       [-2.66666667, -2.66666667],\n",
       "       [ 0.13114754,  0.13114754]])"
      ]
     },
     "execution_count": 40,
     "metadata": {},
     "output_type": "execute_result"
    }
   ],
   "source": [
    "np.tile(PQ[:, 0] * num[:, 0], (2, 1)).T"
   ]
  },
  {
   "cell_type": "code",
   "execution_count": 41,
   "metadata": {},
   "outputs": [
    {
     "data": {
      "text/plain": [
       "array([-1.79234973,  5.4863388 ])"
      ]
     },
     "execution_count": 41,
     "metadata": {},
     "output_type": "execute_result"
    }
   ],
   "source": [
    "np.sum(np.tile(PQ[:, 0] * num[:, 0], (2, 1)).T * (Y[0, :] - Y), 0)"
   ]
  },
  {
   "cell_type": "code",
   "execution_count": 43,
   "metadata": {},
   "outputs": [
    {
     "data": {
      "text/plain": [
       "array([[ 0.  ,  0.  ],\n",
       "       [ 0.5 , -1.75],\n",
       "       [-3.5 ,  6.25]])"
      ]
     },
     "execution_count": 43,
     "metadata": {},
     "output_type": "execute_result"
    }
   ],
   "source": [
    "Y[0, :] - Y"
   ]
  },
  {
   "cell_type": "code",
   "execution_count": 45,
   "metadata": {},
   "outputs": [
    {
     "data": {
      "text/plain": [
       "array([[-0.5 ,  0.25],\n",
       "       [-1.  ,  2.  ],\n",
       "       [ 3.  , -6.  ]])"
      ]
     },
     "execution_count": 45,
     "metadata": {},
     "output_type": "execute_result"
    }
   ],
   "source": [
    "Y"
   ]
  },
  {
   "cell_type": "code",
   "execution_count": 44,
   "metadata": {},
   "outputs": [
    {
     "data": {
      "text/plain": [
       "array([[-0.        , -0.        ],\n",
       "       [ 0.23188406,  0.23188406],\n",
       "       [ 0.01911589,  0.01911589]])"
      ]
     },
     "execution_count": 44,
     "metadata": {},
     "output_type": "execute_result"
    }
   ],
   "source": [
    "np.tile(PQ[:, 0] * num[:, 0], (2, 1)).T"
   ]
  },
  {
   "cell_type": "code",
   "execution_count": 46,
   "metadata": {},
   "outputs": [
    {
     "data": {
      "text/plain": [
       "array([[0.        , 0.23188406, 0.01911589],\n",
       "       [0.23188406, 0.        , 0.01234568],\n",
       "       [0.01911589, 0.01234568, 0.        ]])"
      ]
     },
     "execution_count": 46,
     "metadata": {},
     "output_type": "execute_result"
    }
   ],
   "source": [
    "PQ = P - Q\n",
    "\n",
    "sum_Y = np.sum(np.square(Y), 1)\n",
    "num = -2. * np.dot(Y, Y.T)\n",
    "num = 1. / (1. + np.add(np.add(num, sum_Y).T, sum_Y))\n",
    "num[range(3), range(3)] = 0.\n",
    "num"
   ]
  },
  {
   "cell_type": "code",
   "execution_count": 52,
   "metadata": {},
   "outputs": [
    {
     "data": {
      "text/plain": [
       "array([[-8, -5, -5],\n",
       "       [ 1,  4,  4],\n",
       "       [ 1,  3,  5]])"
      ]
     },
     "execution_count": 52,
     "metadata": {},
     "output_type": "execute_result"
    }
   ],
   "source": [
    "PQ = P - Q\n",
    "PQ"
   ]
  },
  {
   "cell_type": "code",
   "execution_count": 48,
   "metadata": {},
   "outputs": [
    {
     "data": {
      "text/plain": [
       "array([-0.        ,  0.23188406,  0.01911589])"
      ]
     },
     "execution_count": 48,
     "metadata": {},
     "output_type": "execute_result"
    }
   ],
   "source": [
    "PQ[:, 0] * num[:, 0]"
   ]
  },
  {
   "cell_type": "code",
   "execution_count": 42,
   "metadata": {},
   "outputs": [
    {
     "data": {
      "text/plain": [
       "array([[ 0.04903641, -0.28632279],\n",
       "       [ 0.431562  , -1.73268921],\n",
       "       [-0.13699721,  0.20230984]])"
      ]
     },
     "execution_count": 42,
     "metadata": {},
     "output_type": "execute_result"
    }
   ],
   "source": [
    "PQ = P - Q\n",
    "\n",
    "sum_Y = np.sum(np.square(Y), 1)\n",
    "num = -2. * np.dot(Y, Y.T)\n",
    "num = 1. / (1. + np.add(np.add(num, sum_Y).T, sum_Y))\n",
    "num[range(3), range(3)] = 0.\n",
    "\n",
    "dY = np.zeros((3, 2))\n",
    "\n",
    "for i in range(3):\n",
    "    dY[i, :] = np.sum(np.tile(PQ[:, i] * num[:, i], (2, 1)).T * (Y[i, :] - Y), 0)\n",
    "    \n",
    "dY"
   ]
  },
  {
   "cell_type": "code",
   "execution_count": null,
   "metadata": {},
   "outputs": [],
   "source": [
    "def tsne2(pij, T = 1000, alpha_init = 0.5, alpha_final = 0.8, eta = 100, numcols = 2):\n",
    "    \n",
    "    \"\"\"Perform iterative portion of t-SNE algorithm\"\"\"\n",
    "    # Initialize output, including values of first two iterations\n",
    "    y_lowd = np.zeros(shape = (T + 2, pij.shape[0], numcols))\n",
    "    y_lowd_m1 = np.random.multivariate_normal(mean = np.zeros(numcols), cov = 10 ** -4 * np.eye(numcols), \\\n",
    "                                              size = pij.shape[0])\n",
    "    y_lowd_m2 = np.random.multivariate_normal(mean = np.zeros(numcols), cov = 10 ** -4 * np.eye(numcols), \\\n",
    "                                              size = pij.shape[0])\n",
    "    y_lowd[0, :, :] = y_lowd_m2\n",
    "    y_lowd[1, :, :] = y_lowd_m1\n",
    "    \n",
    "    for i in range(2, T + 2):\n",
    "        \n",
    "        # Print iteration number\n",
    "        if i % 10 == 0:\n",
    "            print(\"Iteration: \" + str(i), end = \", \")\n",
    "            \n",
    "        # Set alpha based on iteration number\n",
    "        if i <= 250:\n",
    "            alpha = alpha_init\n",
    "        else:\n",
    "            alpha = alpha_final\n",
    "        \n",
    "        # Compute qij\n",
    "        qij = calc_qij(pij = pij, y = y_lowd_m1)\n",
    "        \n",
    "        # Compute gradient\n",
    "        grad = calc_grad(iter_num = i, pij = pij, qij = qij, y = y_lowd_m1, comp_threshold = 100)\n",
    "        \n",
    "        ##### Update low-dimensional data\n",
    "        y_lowd_new = y_lowd_m1 + eta * grad + alpha * (y_lowd_m1 - y_lowd_m2)\n",
    "        y_lowd_m2, y_lowd_m1 = y_lowd_m1, y_lowd_new\n",
    "        y_lowd[i, :, :] = y_lowd_new\n",
    "    \n",
    "    # Return y_lowd\n",
    "    return y_lowd"
   ]
  }
 ],
 "metadata": {
  "kernelspec": {
   "display_name": "Python 3",
   "language": "python",
   "name": "python3"
  },
  "language_info": {
   "codemirror_mode": {
    "name": "ipython",
    "version": 3
   },
   "file_extension": ".py",
   "mimetype": "text/x-python",
   "name": "python",
   "nbconvert_exporter": "python",
   "pygments_lexer": "ipython3",
   "version": "3.6.10"
  }
 },
 "nbformat": 4,
 "nbformat_minor": 2
}
