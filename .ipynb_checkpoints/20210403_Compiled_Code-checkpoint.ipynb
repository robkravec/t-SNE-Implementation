{
 "cells": [
  {
   "cell_type": "code",
   "execution_count": 1,
   "metadata": {},
   "outputs": [],
   "source": [
    "# Imports\n",
    "import numpy as np\n",
    "import matplotlib.pyplot as plt\n",
    "from numba import jit\n",
    "from sklearn.metrics import pairwise_distances\n",
    "from tqdm.notebook import tqdm, trange\n",
    "np.random.seed(1234)"
   ]
  },
  {
   "cell_type": "code",
   "execution_count": 2,
   "metadata": {},
   "outputs": [],
   "source": [
    "# Generate simple test dataset\n",
    "n = 500\n",
    "p = 50\n",
    "X = np.r_[np.random.normal(-2, 1/2, [n//2, p]), np.random.normal(2, 1/2, [n//2, p])]"
   ]
  },
  {
   "cell_type": "code",
   "execution_count": 3,
   "metadata": {},
   "outputs": [
    {
     "data": {
      "image/png": "[encoded data removed]",
      "text/plain": [
       "<Figure size 432x288 with 1 Axes>"
      ]
     },
     "metadata": {},
     "output_type": "display_data"
    }
   ],
   "source": [
    "# Display y\n",
    "plt.scatter(x = X[:, 0], y = X[:, 1]);"
   ]
  },
  {
   "cell_type": "code",
   "execution_count": 4,
   "metadata": {},
   "outputs": [],
   "source": [
    "def pca(X, k = 30):\n",
    "    \"\"\"Use PCA to project X to k dimensions.\"\"\"\n",
    "    \n",
    "    X = (X - np.mean(X, axis=0))/np.std(X, axis=0)\n",
    "    _, U = np.linalg.eig(X.T@X)\n",
    "    \n",
    "    return X@U[:,:k]"
   ]
  },
  {
   "cell_type": "code",
   "execution_count": 5,
   "metadata": {},
   "outputs": [],
   "source": [
    "def entropy(p):\n",
    "    \"\"\"Calculates 2 ** H(p) of array p, where H(p) is the shannon entropy\"\"\"\n",
    "    return 2 ** np.sum(-p*np.log2(p))"
   ]
  },
  {
   "cell_type": "code",
   "execution_count": 6,
   "metadata": {},
   "outputs": [],
   "source": [
    "def get_pji(D, sigma, i):\n",
    "    \"\"\"\n",
    "    Takes the row of a distance matrix D and sigma, and returns a row of conditional probabilities j given i\n",
    "    \n",
    "    Inputs:\n",
    "        D - 1xN row vector from a pairwise distance matrix D\n",
    "        sigma - std of a guassian used for conditional probabilities\n",
    "        \n",
    "    Output:\n",
    "        pj_i - 1xN vector \n",
    "    \"\"\"\n",
    "    \n",
    "    scale = 2*sigma**2\n",
    "        \n",
    "    D_scaled = -D.copy()/scale\n",
    "    D_scaled -= np.max(D_scaled)\n",
    "    exp_D = np.exp(D_scaled)\n",
    "    exp_D[i] = 0\n",
    "    \n",
    "    return exp_D/np.sum(exp_D)"
   ]
  },
  {
   "cell_type": "code",
   "execution_count": 7,
   "metadata": {},
   "outputs": [],
   "source": [
    "def binary_search(fx, fscore, val, lb=0, ub=1e4, tol=1e-6, maxit=250):\n",
    "    \"\"\"\n",
    "    Executes binary search to find the input to fx along with x such that its output yields score given by fscore\n",
    "    where |score - val| < tol.\n",
    "    \n",
    "    Inputs:\n",
    "        fx ~ function to be paramterized for val\n",
    "        fscore ~ function that gives score of fx\n",
    "        val ~ desired score\n",
    "        lb  ~ lower bound for search\n",
    "        ub  ~ upper bound for search\n",
    "        tol ~ tolerance\n",
    "        maxit ~ maximum number of iterations\n",
    "        \n",
    "    Output:\n",
    "        midpoint ~ value such that the score of fx is within given tolerance of val\n",
    "    \n",
    "    \"\"\"\n",
    "    \n",
    "    for i in range(maxit):\n",
    "        midpoint = (lb + ub)/2\n",
    "        \n",
    "        y = fx(midpoint)\n",
    "        score = fscore(y[y!=0])\n",
    "        \n",
    "        if score < val:\n",
    "            lb = midpoint\n",
    "        else:\n",
    "            ub = midpoint\n",
    "\n",
    "        if np.abs(score-val) < tol:\n",
    "                return midpoint \n",
    "        \n",
    "    return midpoint"
   ]
  },
  {
   "cell_type": "code",
   "execution_count": 8,
   "metadata": {},
   "outputs": [],
   "source": [
    "def get_P(X, perp = 30, lb = 0, ub = 1e4, tol = 1e-6, maxit = 250):\n",
    "    \"\"\"\n",
    "    Generates NxN symmetric affinity score matrix for a data matrix X\n",
    "    \n",
    "    Input:\n",
    "        X ~  NxM data matrix \n",
    "        perp ~ perplexity score used to obtain sigmas for conditional probabilies pj_i\n",
    "        lb ~ lower bound in binary search used to obtain sigma for conditional probabilies pj_i\n",
    "        ub ~ upper bound in binary search used to obtain sigma for conditional probabilies pj_i\n",
    "        tol ~ tolerance in binary search used to obtain sigma for conditional probabilies pj_i\n",
    "        maxit ~ maximum number of iterations in binary search used to obtain sigma \n",
    "                for conditional probabilies pj_i\n",
    "                \n",
    "    Output:\n",
    "        P ~ NxN symmetric affinity score matrix \n",
    "    \"\"\"\n",
    "    \n",
    "    N = X.shape[0]\n",
    "    D = pairwise_distances(X, metric=\"sqeuclidean\")\n",
    "    \n",
    "    P = np.zeros((N,N))\n",
    "    \n",
    "    for i in range(N):\n",
    "        f = lambda x: get_pji(D[i, :], sigma=x, i = i)\n",
    "        sig = binary_search(fx = f, fscore = entropy, val=perp, lb=lb, ub=ub, tol=tol, maxit=maxit)\n",
    "        P[i, :] = get_pji(D[i,:], sig, i = i)\n",
    "    \n",
    "    return (P + P.T) / (2*N)"
   ]
  },
  {
   "cell_type": "code",
   "execution_count": 9,
   "metadata": {},
   "outputs": [],
   "source": [
    "def get_Y_dists(Y):\n",
    "    \"\"\"Takes in an n*n matrix Y, returns a matrix of (1+||y_i-y_j||^2)^-1.\"\"\"\n",
    "    return np.power(1 + pairwise_distances(Y, metric=\"sqeuclidean\"), -1)"
   ]
  },
  {
   "cell_type": "code",
   "execution_count": 10,
   "metadata": {},
   "outputs": [],
   "source": [
    "def get_Q(Y_dists):\n",
    "    \"\"\"Normalize a similarity matrix, exlucding self-similarity.\"\"\"\n",
    "    np.fill_diagonal(Y_dists, 0)\n",
    "    return Y_dists/np.sum(Y_dists)"
   ]
  },
  {
   "cell_type": "code",
   "execution_count": 11,
   "metadata": {},
   "outputs": [],
   "source": [
    "def get_grad(P, Y):\n",
    "    \"\"\"Compute the t-SNE gradient.\n",
    "    \n",
    "    Inputs:\n",
    "    P - n*n high-dimensional affinity matrix.\n",
    "    Y - n*d matrix of the current d-dimensional embedding.\n",
    "    \n",
    "    Intermediate calculations:\n",
    "    Q - n*n low-dimensional affinity matrix.\n",
    "    Y_dists - n*n matrix of similarities between the low-dimensional\n",
    "              factors.\n",
    "    \n",
    "    Outputs:\n",
    "    dY - n*d matrix where each row is the gradient of the t-SNE cost.\"\"\"\n",
    "    \n",
    "    # Calculate inputs to gradient calculation\n",
    "    Y_dists = get_Y_dists(Y)\n",
    "    Q = get_Q(Y_dists)\n",
    "    R = P - Q\n",
    "    dY = np.zeros_like(Y)\n",
    "\n",
    "    # Perform gradient calculation, and return result\n",
    "    for i in range(Y.shape[0]):\n",
    "        dY[i,:] = 4*np.dot(R[i,:]*Y_dists[i,:], Y[i,:] - Y)\n",
    "            \n",
    "    return dY"
   ]
  },
  {
   "cell_type": "code",
   "execution_count": 12,
   "metadata": {},
   "outputs": [],
   "source": [
    "def tsne(X, niter = 1000, alpha_init = 0.5, alpha_final = 0.8, alpha_threshold = 250, eta = 100, numcols = 2, \\\n",
    "         comp_factor = 4, comp_threshold = 50, perplexity = 30, pca_dims = 30):\n",
    "    \n",
    "    \"\"\"Perform iterative portion of t-SNE algorithm\n",
    "    \n",
    "    Required inputs: \n",
    "    X ~  NxM data matrix\n",
    "    \n",
    "    Optional inputs:\n",
    "    niter ~ Number of iterations\n",
    "    alpha_int ~ Initial value of momentum term in t-SNE update formula\n",
    "    alpha_final ~ Final value of momentum term in t-SNE update formula\n",
    "    alpha_threshold ~ Iteration number in which alpha changes from alpha_init to alpha_final\n",
    "    eta ~ Learning rate in t-SNE update formula\n",
    "    numcols ~ Dimension of resulting low-dimensional dataset\n",
    "    comp_factor ~ Multiplicative factor for high-dimensional affinity matrix to promote mixing at low iterations\n",
    "    comp_threshold ~ Number of iterations to apply multiplication factor to high-dimensional affinity matrix\n",
    "    perplexity ~ Target perplexity for use in calculating high-dimensional affinity matrix\n",
    "    pca_dims ~ Target number of dimensions for X (achieved through PCA) before calculating high-dimensional \n",
    "               affinity matrix\n",
    "    \n",
    "    Outputs:\n",
    "    y_lowd ~ (niter + 2) x N x numcols array containing low-dimensional data for each iteration\"\"\"\n",
    "    \n",
    "    # Calculate affinity matrix from X. Start with PCA if number of dimensions > 30\n",
    "    if X.shape[1] > pca_dims:\n",
    "        X = pca(X = X, k = pca_dims)\n",
    "    pij = get_P(X = X, perp = perplexity)\n",
    "    \n",
    "    # Initialize output, including values of first two iterations\n",
    "    y_lowd = np.zeros(shape = (niter + 2, pij.shape[0], numcols))\n",
    "    y_lowd[0, :, :] = y_lowd_m2 = np.random.normal(loc = 0.0, scale = np.sqrt(10 ** -4), \\\n",
    "                                                   size = (pij.shape[0], numcols))\n",
    "    y_lowd[1, :, :] = y_lowd_m1 = np.random.normal(loc = 0.0, scale = np.sqrt(10 ** -4), \\\n",
    "                                                   size = (pij.shape[0], numcols))\n",
    "    \n",
    "    # Use larger alpha value for early iterations\n",
    "    alpha = alpha_init\n",
    "    \n",
    "    # Begin iterative t-SNE algorithm\n",
    "    for i in trange(2, niter + 2):\n",
    "            \n",
    "        # Set alpha based on iteration number\n",
    "        if i > alpha_threshold:\n",
    "            alpha = alpha_final\n",
    "        \n",
    "        # Compute gradient\n",
    "        if i <= comp_threshold:\n",
    "            grad = get_grad(P = comp_factor * pij, Y = y_lowd_m1)\n",
    "        else:\n",
    "            grad = get_grad(P = pij, Y = y_lowd_m1)\n",
    "        \n",
    "        ##### Update low-dimensional data\n",
    "        y_lowd_new = y_lowd_m1 - eta * grad + alpha * (y_lowd_m1 - y_lowd_m2)\n",
    "        y_lowd_m2, y_lowd_m1 = y_lowd_m1, y_lowd_new\n",
    "        y_lowd[i, :, :] = y_lowd_new\n",
    "    \n",
    "    # Return y_lowd\n",
    "    return y_lowd"
   ]
  },
  {
   "cell_type": "code",
   "execution_count": 13,
   "metadata": {},
   "outputs": [
    {
     "data": {
      "application/vnd.jupyter.widget-view+json": {
       "model_id": "812b5d667eb447439ccda0ace90e4bcf",
       "version_major": 2,
       "version_minor": 0
      },
      "text/plain": [
       "HBox(children=(FloatProgress(value=0.0, max=1000.0), HTML(value='')))"
      ]
     },
     "metadata": {},
     "output_type": "display_data"
    },
    {
     "name": "stdout",
     "output_type": "stream",
     "text": [
      "\n"
     ]
    }
   ],
   "source": [
    "# Test t-SNE\n",
    "test = tsne(X = X)"
   ]
  },
  {
   "cell_type": "code",
   "execution_count": 14,
   "metadata": {},
   "outputs": [
    {
     "data": {
      "image/png": "[encoded data removed]",
      "text/plain": [
       "<Figure size 432x288 with 1 Axes>"
      ]
     },
     "metadata": {},
     "output_type": "display_data"
    }
   ],
   "source": [
    "plt.scatter(x = test[-1, :, 0], y = test[-1, :, 1]);"
   ]
  }
 ],
 "metadata": {
  "kernelspec": {
   "display_name": "Python 3",
   "language": "python",
   "name": "python3"
  },
  "language_info": {
   "codemirror_mode": {
    "name": "ipython",
    "version": 3
   },
   "file_extension": ".py",
   "mimetype": "text/x-python",
   "name": "python",
   "nbconvert_exporter": "python",
   "pygments_lexer": "ipython3",
   "version": "3.6.10"
  }
 },
 "nbformat": 4,
 "nbformat_minor": 2
}
