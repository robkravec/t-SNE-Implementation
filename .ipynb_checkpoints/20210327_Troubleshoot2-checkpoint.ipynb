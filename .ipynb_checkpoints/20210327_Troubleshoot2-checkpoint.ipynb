{
 "cells": [
  {
   "cell_type": "code",
   "execution_count": 40,
   "metadata": {},
   "outputs": [],
   "source": [
    "# Imports\n",
    "import numpy as np\n",
    "import matplotlib.pyplot as plt\n",
    "from numba import jit\n",
    "from sklearn.metrics import pairwise_distances\n",
    "np.random.seed(1234)"
   ]
  },
  {
   "cell_type": "code",
   "execution_count": 2,
   "metadata": {},
   "outputs": [],
   "source": [
    "# Generate dataset\n",
    "n = 500\n",
    "p = 5\n",
    "X = np.r_[np.random.normal(-2, 1/2, [n//2, p]), np.random.normal(2, 1/2, [n//2, p])]\n",
    "y = X[:, 0:2]"
   ]
  },
  {
   "cell_type": "code",
   "execution_count": 3,
   "metadata": {},
   "outputs": [
    {
     "data": {
      "image/png": "[encoded data removed]",
      "text/plain": [
       "<Figure size 432x288 with 1 Axes>"
      ]
     },
     "metadata": {},
     "output_type": "display_data"
    }
   ],
   "source": [
    "# Display y\n",
    "plt.scatter(x = y[:, 0], y = y[:, 1]);"
   ]
  },
  {
   "cell_type": "code",
   "execution_count": 4,
   "metadata": {},
   "outputs": [],
   "source": [
    "@jit\n",
    "def dist_calc(X, perplexity = 30.0, tolerance = 1e-6, sigma_sq_init = 100, maxit = 250):\n",
    "    \n",
    "    \"\"\"Calculate pairwise affinities with approach that contrains perplexity values\"\"\"\n",
    "    \n",
    "    # Initialize output and sigma_sq boundaries\n",
    "    dist = np.zeros(shape = (X.shape[0], X.shape[0]))\n",
    "    \n",
    "    # Calculate pairwise affinities one row at a time\n",
    "    for i in range(dist.shape[0]):\n",
    "        sigma_sq = sigma_sq_init\n",
    "        sigma_sq_max = np.inf\n",
    "        sigma_sq_min = 0\n",
    "        perp = 0\n",
    "        attempts = 0\n",
    "       \n",
    "        # Only proceed to next row once perplexity condition is met or we have too many attempts\n",
    "        while np.abs(perp - perplexity) > tolerance and attempts < maxit:\n",
    "            \n",
    "            ######## Could use pairwise distance function in sklearn\n",
    "            # Calculate pairwise affinities\n",
    "            denom = 0\n",
    "            for j in range(dist.shape[0]):\n",
    "                if i != j:\n",
    "                    dist[i, j] = np.exp(-np.sum(np.square(X[i, :] - X[j, :])) / (2 * sigma_sq))\n",
    "            dist[i, :] = dist[i, :] / dist[i, :].sum()\n",
    "\n",
    "            # Check perplexity, and update sigma_sq accordingly\n",
    "            perp = 2 ** (- np.sum(dist[i, :] * np.where(dist[i, :] != 0, np.log2(dist[i, :]), 0)))\n",
    "            \n",
    "            # Print sigma_sq values for troubleshooting\n",
    "            #if (np.abs(perp - perplexity) <= tolerance):\n",
    "            #    print(sigma_sq, end = ', ')\n",
    "            \n",
    "            if perp < perplexity:\n",
    "                sigma_sq_min = sigma_sq\n",
    "                if sigma_sq_max == np.inf:\n",
    "                    sigma_sq *= 2\n",
    "                else:\n",
    "                    sigma_sq = (sigma_sq + sigma_sq_max) / 2\n",
    "            else:\n",
    "                sigma_sq_max = sigma_sq\n",
    "                sigma_sq *= 0.5\n",
    "            attempts += 1\n",
    "        \n",
    "    return dist"
   ]
  },
  {
   "cell_type": "code",
   "execution_count": 5,
   "metadata": {},
   "outputs": [],
   "source": [
    "@jit\n",
    "def calc_qij(pij, y):\n",
    "    \n",
    "    \"\"\"Calculate qij matrix\"\"\"\n",
    "    \n",
    "    # Initialize qij array and denominator\n",
    "    q_ij = np.zeros(shape = pij.shape)\n",
    "    denom = 0\n",
    "    \n",
    "    # Calculate q_ij, which is a symmetric matrix\n",
    "    for i in range(q_ij.shape[0]):\n",
    "        for j in range(q_ij.shape[0]):\n",
    "            if i != j:\n",
    "                q_ij[i, j] = (1 + np.sum(np.square(y[i, :] - y[j, :]))) ** (-1)\n",
    "    denom = q_ij.sum()\n",
    "    q_ij = q_ij / denom\n",
    "    \n",
    "    # Return qij\n",
    "    return q_ij"
   ]
  },
  {
   "cell_type": "code",
   "execution_count": 6,
   "metadata": {},
   "outputs": [],
   "source": [
    "@jit\n",
    "def calc_grad(iter_num, pij, qij, y, comp_threshold = 50):\n",
    "    \n",
    "    \"\"\"Calculate gradient\"\"\"\n",
    "    \n",
    "    # Create compression at early iteration values\n",
    "    if iter_num <= comp_threshold:\n",
    "        comp = 4\n",
    "    else:\n",
    "        comp = 1\n",
    "    \n",
    "    # Initialize grad array\n",
    "    grad = np.zeros(shape = y.shape)\n",
    "    \n",
    "    # Compute gradient\n",
    "    for i in range(grad.shape[0]):\n",
    "        grad[i] = 0\n",
    "        for j in range(grad.shape[0]):\n",
    "            grad[i] += 4 * (comp * pij[i, j] - qij[i, j]) * (y[i, :] - y[j, :]) * \\\n",
    "                (1 + np.sum(np.square(y[i, :] - y[j, :]))) ** (-1)\n",
    "    \n",
    "    # Return gradient\n",
    "    return grad"
   ]
  },
  {
   "cell_type": "code",
   "execution_count": 34,
   "metadata": {},
   "outputs": [],
   "source": [
    "def get_Y_dists(Y):\n",
    "    \"\"\"Takes in an n*n matrix Y, returns a matrix of (1+||y_i-y_j||^2)^-1.\"\"\"\n",
    "    return np.power(1 + pairwise_distances(Y, metric=\"sqeuclidean\"), -1)"
   ]
  },
  {
   "cell_type": "code",
   "execution_count": 35,
   "metadata": {},
   "outputs": [],
   "source": [
    "def get_Q(Y_dists):\n",
    "    \"\"\"Normalize a similarity matrix, exlucding self-similarity.\"\"\"\n",
    "    np.fill_diagonal(Y_dists, 0)\n",
    "    return Y_dists/np.sum(Y_dists)"
   ]
  },
  {
   "cell_type": "code",
   "execution_count": 37,
   "metadata": {},
   "outputs": [],
   "source": [
    "def get_grad(P, Y):\n",
    "    \"\"\"Compute the t-SNE gradient.\n",
    "    \n",
    "    Inputs:\n",
    "    P - n*n high-dimensional affinity matrix.\n",
    "    Y - n*d matrix of the current d-dimensional embedding.\n",
    "    \n",
    "    Intermediate calculations:\n",
    "    Q - n*n low-dimensional affinity matrix.\n",
    "    Y_dists - n*n matrix of similarities between the low-dimensional\n",
    "              factors.\n",
    "    \n",
    "    Outputs:\n",
    "    dY - n*d matrix where each row is the gradient of the t-SNE cost.\"\"\"\n",
    "    \n",
    "    # Calculate inputs to gradient calculation\n",
    "    Y_dists = get_Y_dists(Y)\n",
    "    Q = get_Q(Y_dists)\n",
    "    R = P - Q\n",
    "    dY = np.zeros_like(Y)\n",
    "\n",
    "    # Perform gradient calculation, and return result\n",
    "    for i in range(Y.shape[0]):\n",
    "        dY[i,:] = 4*np.dot(R[i,:]*Y_dists[i,:], Y[i,:] - Y)\n",
    "            \n",
    "    return dY"
   ]
  },
  {
   "cell_type": "code",
   "execution_count": 41,
   "metadata": {},
   "outputs": [],
   "source": [
    "def tsne(pij, T = 1000, alpha_init = 0.5, alpha_final = 0.8, eta = 100, numcols = 2, comp_threshold = 50, \\\n",
    "        alpha_threshold = 250):\n",
    "    \n",
    "    \"\"\"Perform iterative portion of t-SNE algorithm\"\"\"\n",
    "    # Initialize output, including values of first two iterations\n",
    "    y_lowd = np.zeros(shape = (T + 2, pij.shape[0], numcols))\n",
    "    y_lowd[0, :, :] = y_lowd_m2 = np.random.normal(loc = 0.0, scale = np.sqrt(10 ** -4), size = (pij.shape[0], 2))\n",
    "    y_lowd[1, :, :] = y_lowd_m1 = np.random.normal(loc = 0.0, scale = np.sqrt(10 ** -4), size = (pij.shape[0], 2))\n",
    "    \n",
    "    for i in range(2, T + 2):\n",
    "        \n",
    "        # Print iteration number\n",
    "        if i % 10 == 0:\n",
    "            print(\"Iteration: \" + str(i), end = \", \")\n",
    "            \n",
    "        # Set alpha based on iteration number\n",
    "        if i <= alpha_threshold:\n",
    "            alpha = alpha_init\n",
    "        else:\n",
    "            alpha = alpha_final\n",
    "        \n",
    "        # Compute qij\n",
    "        #qij = calc_qij(pij = pij, y = y_lowd_m1)\n",
    "        \n",
    "        # Compute gradient\n",
    "        #grad = calc_grad(iter_num = i, pij = pij, qij = qij, y = y_lowd_m1, comp_threshold = 50)\n",
    "        \n",
    "        # Compute gradient\n",
    "        if i <= comp_threshold:\n",
    "            grad = get_grad(P = 4 * pij, Y = y_lowd_m1)\n",
    "        else:\n",
    "            grad = get_grad(P = pij, Y = y_lowd_m1)\n",
    "            \n",
    "        \n",
    "        ##### Update low-dimensional data\n",
    "        y_lowd_new = y_lowd_m1 - eta * grad + alpha * (y_lowd_m1 - y_lowd_m2)\n",
    "        y_lowd_m2, y_lowd_m1 = y_lowd_m1, y_lowd_new\n",
    "        y_lowd[i, :, :] = y_lowd_new\n",
    "    \n",
    "    # Return y_lowd\n",
    "    return y_lowd"
   ]
  },
  {
   "cell_type": "code",
   "execution_count": 42,
   "metadata": {},
   "outputs": [
    {
     "name": "stdout",
     "output_type": "stream",
     "text": [
      "Iteration: 10, Iteration: 20, Iteration: 30, Iteration: 40, Iteration: 50, Iteration: 60, Iteration: 70, Iteration: 80, Iteration: 90, Iteration: 100, Iteration: 110, Iteration: 120, Iteration: 130, Iteration: 140, Iteration: 150, Iteration: 160, Iteration: 170, Iteration: 180, Iteration: 190, Iteration: 200, Iteration: 210, Iteration: 220, Iteration: 230, Iteration: 240, Iteration: 250, Iteration: 260, Iteration: 270, Iteration: 280, Iteration: 290, Iteration: 300, Iteration: 310, Iteration: 320, Iteration: 330, Iteration: 340, Iteration: 350, Iteration: 360, Iteration: 370, Iteration: 380, Iteration: 390, Iteration: 400, Iteration: 410, Iteration: 420, Iteration: 430, Iteration: 440, Iteration: 450, Iteration: 460, Iteration: 470, Iteration: 480, Iteration: 490, Iteration: 500, Iteration: 510, Iteration: 520, Iteration: 530, Iteration: 540, Iteration: 550, Iteration: 560, Iteration: 570, Iteration: 580, Iteration: 590, Iteration: 600, Iteration: 610, Iteration: 620, Iteration: 630, Iteration: 640, Iteration: 650, Iteration: 660, Iteration: 670, Iteration: 680, Iteration: 690, Iteration: 700, Iteration: 710, Iteration: 720, Iteration: 730, Iteration: 740, Iteration: 750, Iteration: 760, Iteration: 770, Iteration: 780, Iteration: 790, Iteration: 800, Iteration: 810, Iteration: 820, Iteration: 830, Iteration: 840, Iteration: 850, Iteration: 860, Iteration: 870, Iteration: 880, Iteration: 890, Iteration: 900, Iteration: 910, Iteration: 920, Iteration: 930, Iteration: 940, Iteration: 950, Iteration: 960, Iteration: 970, Iteration: 980, Iteration: 990, Iteration: 1000, "
     ]
    }
   ],
   "source": [
    "dist = dist_calc(X = X)\n",
    "N = dist.shape[0]\n",
    "pij = (dist + dist.T) / (2 * N)\n",
    "test = tsne(pij = pij)"
   ]
  },
  {
   "cell_type": "code",
   "execution_count": 43,
   "metadata": {},
   "outputs": [
    {
     "data": {
      "image/png": "[encoded data removed]",
      "text/plain": [
       "<Figure size 432x288 with 1 Axes>"
      ]
     },
     "metadata": {},
     "output_type": "display_data"
    }
   ],
   "source": [
    "plt.scatter(x = test[-1, :, 0], y = test[-1, :, 1]);"
   ]
  }
 ],
 "metadata": {
  "kernelspec": {
   "display_name": "Python 3",
   "language": "python",
   "name": "python3"
  },
  "language_info": {
   "codemirror_mode": {
    "name": "ipython",
    "version": 3
   },
   "file_extension": ".py",
   "mimetype": "text/x-python",
   "name": "python",
   "nbconvert_exporter": "python",
   "pygments_lexer": "ipython3",
   "version": "3.6.10"
  }
 },
 "nbformat": 4,
 "nbformat_minor": 2
}
